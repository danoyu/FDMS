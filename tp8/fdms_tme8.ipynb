{
 "cells": [
  {
   "cell_type": "code",
   "execution_count": 18,
   "metadata": {},
   "outputs": [
    {
     "name": "stdout",
     "output_type": "stream",
     "text": [
      "195\n"
     ]
    },
    {
     "data": {
      "text/plain": [
       "0"
      ]
     },
     "execution_count": 18,
     "metadata": {},
     "output_type": "execute_result"
    }
   ],
   "source": [
    "import pandas as pd\n",
    "import numpy as np\n",
    "import os\n",
    "from sklearn.model_selection import train_test_split\n",
    "\n",
    "#liens avec les autres sites\n",
    "# dict sites -> voisins \n",
    "# !!!! faire un split('\\t') pour lire les données \n",
    "def read_citie(file):\n",
    "    links = {}\n",
    "    with open(file,'r') as f:\n",
    "        for line in f.readlines():\n",
    "            line = line.split('\\n')\n",
    "            line = line[0]\n",
    "            line = line.split(' ')\n",
    "            try :\n",
    "                links[line[0]] = links[line[0]] + '\\t' + line[1]\n",
    "            except:\n",
    "                 links[line[0]] = line[1]\n",
    "    return links\n",
    "\n",
    "links_site = read_citie('WebKB/cites/cornell.cites')\n",
    "\n",
    "\n",
    "#print(links_site['http://www.cs.cornell.edu'].split('\\t'))\n",
    "#print(len(links_site['http://www.cs.cornell.edu'].split('\\t')))\n",
    "\n",
    "#lis les fichier .content\n",
    "# renvoie dict site -> attribut (vecteur de 0 et 1) , label\n",
    "def read_content(file):\n",
    "    content = {}\n",
    "    with open(file,'r') as f:\n",
    "        for line in f.readlines():\n",
    "            line = line.split('\\n')\n",
    "            line = line[0]\n",
    "            line = line.split('\\t')\n",
    "            content[line[0]] = [line[1:-1],line[-1]]\n",
    "    return content\n",
    "\n",
    "content = read_content(\"WebKB/content/cornell.content\")\n",
    "print(len(content))\n",
    "# transform label en index pour aggregation\n",
    "def transorm_label(label):\n",
    "    if(label == 'course'):\n",
    "        return 0\n",
    "    if(label == 'faculty'):\n",
    "        return 1\n",
    "    if(label == 'project'):\n",
    "        return 2\n",
    "    if(label == 'staff'):\n",
    "        return 3\n",
    "    if(label == 'student'):\n",
    "        return 4\n",
    "\n",
    "    \n",
    "#on considere que le graphe est non-dirigé\n",
    "# donc que s iu est voisin de v alors v est aussi voisin de u\n",
    "# a faire l'inverse du coup\n",
    "\n",
    "#concatene vecteur d'attribut(0 et 1) avec le compte des labels des voisins\n",
    "def concat(cities, content):\n",
    "    #liste des vecteurs\n",
    "    liste_vect = []\n",
    "    for key, value in content.items():\n",
    "        #vecteur d'attributs\n",
    "        vect = value[0]\n",
    "        #compte des labels des voisins\n",
    "        label = [0]*5\n",
    "        try :\n",
    "            voisins = cities[key].split('\\t')\n",
    "            for v in voisins:\n",
    "                label_voisin = transorm_label(content[v][-1])\n",
    "                label[label_voisin] += 1\n",
    "        except:\n",
    "            continue\n",
    "        vect += label\n",
    "        liste_vect.append(vect)\n",
    "    return liste_vect\n",
    "         \n",
    "\n",
    "len(concat(links_site,content))\n",
    "data = concat(links_site,content)\n"
   ]
  },
  {
   "cell_type": "code",
   "execution_count": 9,
   "metadata": {},
   "outputs": [
    {
     "name": "stdout",
     "output_type": "stream",
     "text": [
      "cornell.cites\n",
      "texas.cites\n",
      "washington.cites\n",
      "wisconsin.cites\n"
     ]
    }
   ],
   "source": [
    "\n",
    "def read_cities(folder):\n",
    "    links = {}\n",
    "    for file in os.listdir(folder):\n",
    "        print(file)\n",
    "        with open(folder+file,'r') as f:\n",
    "            for line in f.readlines():\n",
    "                line = line.split('\\n')\n",
    "                line = line[0]\n",
    "                line = line.split(' ')\n",
    "                try :\n",
    "                    links[line[0]] = links[line[0]] + '\\t' + line[1]\n",
    "                except:\n",
    "                     links[line[0]] = line[1]\n",
    "    return links\n",
    "\n",
    "links_site = read_cities('WebKB/cites/')"
   ]
  },
  {
   "cell_type": "code",
   "execution_count": null,
   "metadata": {},
   "outputs": [],
   "source": [
    "X_train, X_test, y_train, y_test = train_test_split(\n",
    "    data, y, test_size=0.33, random_state=42)"
   ]
  }
 ],
 "metadata": {
  "kernelspec": {
   "display_name": "Python 2",
   "language": "python",
   "name": "python2"
  },
  "language_info": {
   "codemirror_mode": {
    "name": "ipython",
    "version": 2
   },
   "file_extension": ".py",
   "mimetype": "text/x-python",
   "name": "python",
   "nbconvert_exporter": "python",
   "pygments_lexer": "ipython2",
   "version": "2.7.14"
  }
 },
 "nbformat": 4,
 "nbformat_minor": 2
}
