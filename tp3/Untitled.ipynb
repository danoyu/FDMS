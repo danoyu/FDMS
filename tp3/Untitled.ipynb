{
 "cells": [
  {
   "cell_type": "code",
   "execution_count": 1,
   "metadata": {},
   "outputs": [
    {
     "name": "stderr",
     "output_type": "stream",
     "text": [
      "c:\\python27\\lib\\site-packages\\sklearn\\cross_validation.py:41: DeprecationWarning: This module was deprecated in version 0.18 in favor of the model_selection module into which all the refactored classes and functions are moved. Also note that the interface of the new CV iterators are different from that of this module. This module will be removed in 0.20.\n",
      "  \"This module will be removed in 0.20.\", DeprecationWarning)\n"
     ]
    },
    {
     "data": {
      "image/png": "[encoded data removed]",
      "text/plain": [
       "<matplotlib.figure.Figure at 0x1ce9a860>"
      ]
     },
     "metadata": {},
     "output_type": "display_data"
    }
   ],
   "source": [
    "import numpy as np\n",
    "from sklearn import datasets\n",
    "from sklearn.cross_validation import train_test_split\n",
    "import matplotlib.pyplot as plt\n",
    "\n",
    "data = datasets.load_iris()\n",
    "X = data.data\n",
    "Y = data.target\n",
    "\n",
    "\n",
    "\n",
    "class LinearModule():\n",
    "    def __init__(self, dimension):\n",
    "        self.dimension = dimension\n",
    "        self.theta = np.random.rand(dimension)\n",
    "        self.cost=[]\n",
    "        self.accuracy=[]\n",
    "       \n",
    "    def randomize(self,variance):\n",
    "        self.theta=(self.theta*2*variance)-variance\n",
    "        \n",
    "    def init_gradient(self):\n",
    "        self.gradient=np.zeros((1,self.X))\n",
    "        \n",
    "    def update_theta(self,X,Y,idx,step):\n",
    "        tmp_theta = np.copy(self.theta)\n",
    "        for k in range(self.dimension):\n",
    "            tmp_theta[k] = self.theta[k] - step*2*X[idx][k]*(X[idx][k]*self.theta[k] - Y[idx])/self.dimension + np.sign(self.theta[k])*coeff\n",
    "            #print(step*2*(X[idx][k]-Y[idx])*(X[idx][k]-self.theta[k]*Y[idx]))\n",
    "            #tmp_theta[k] = self.theta[k] - step*2*(X[idx][k]-Y[idx])*(X[idx][k]-self.theta[k]*Y[idx])\n",
    "            #print('tmp_theta['+str(k)+'] : ' + str(tmp_theta[k]))\n",
    "            #if tmp_theta[k] < 0:\n",
    "            #    tmp_theta[k] -= coeff\n",
    "            #else :\n",
    "            #    tmp_theta[k] += coeff\n",
    "            #self.theta[k] = tmp_theta[k]\n",
    "        #print(self.theta)\n",
    "        #print(tmp_theta)\n",
    "        return tmp_theta\n",
    "    \n",
    "    def predict(self, X):\n",
    "        return np.dot(X,self.theta)\n",
    "        \n",
    "    def fit2(self,X,Y,max_iter,step):\n",
    "        for it in range(max_iter):\n",
    "            tmp_cost=0\n",
    "            y_predit = []\n",
    "            for i in range(len(X)):\n",
    "                idx = np.random.randint(0,len(X)-1)\n",
    "                tmp_theta = self.update_theta(X,Y,idx,step)\n",
    "                for j in range(self.dimension):\n",
    "                    if (tmp_theta[j]*self.theta[j])<0:\n",
    "                        self.theta[j]=0\n",
    "                    else:   \n",
    "                        self.theta[j]=tmp_theta[j]\n",
    "                #tmp_cost+=(Y[i]-np.dot(X[i],self.theta))*(Y[i]-np.dot(X[i],self.theta))              \n",
    "                tmp_cost+=(Y[i]-self.predict(X[i]))**2\n",
    "\n",
    "            #print(y_predit)\n",
    "            #print(len(Y))\n",
    "            #print(len(y_predit))\n",
    "            #tmp_cost = np.sum(Y,y_predit)\n",
    "            self.cost.append(tmp_cost/len(X)) #+ coeff*np.sum(np.absolute(self.theta)))\n",
    "            \n",
    "            \n",
    "    def fit(self,X,Y,max_iter,step):\n",
    "        for it in range(max_iter):\n",
    "            tmp_cost=0\n",
    "            y_predit = []\n",
    "            for i in range(len(X)):\n",
    "                idx = np.random.randint(0,len(X)-1)\n",
    "                tmp_theta = self.update_theta(X,Y,idx,step)\n",
    "                self.gradient =  -2 * (Y[i] - np.dot(self.theta,X[i])) * X[i]  + coeff * np.sign(self.theta)\n",
    "                tmp_theta = np.copy(self.theta)\n",
    "                self.theta -= step*self.gradient\n",
    "                #print(self.theta)\n",
    "                for j in range(self.dimension):\n",
    "                    if (tmp_theta[j]*self.theta[j])<0:\n",
    "                        self.theta[j]=0\n",
    "                    else:   \n",
    "                        self.theta[j]=tmp_theta[j]\n",
    "                #tmp_cost+=(Y[i]-np.dot(X[i],self.theta))*(Y[i]-np.dot(X[i],self.theta))              \n",
    "                tmp_cost+=(Y[i]-self.predict(X[i]))**2\n",
    "\n",
    "            #print(y_predit)\n",
    "            #print(len(Y))\n",
    "            #print(len(y_predit))\n",
    "            #tmp_cost = np.sum(Y,y_predit)\n",
    "            self.cost.append(tmp_cost/len(X)) #+ coeff*np.sum(np.absolute(self.theta)))\n",
    "   \n",
    "        \n",
    "        \n",
    "\n",
    "X_train, X_test, Y_train, Y_test = train_test_split(X, Y, test_size=0.2)\n",
    "max_iter = 1000\n",
    "coeff = 0\n",
    "step = 0.1\n",
    "\n",
    "model = LinearModule(4)\n",
    "model.randomize(0.1)\n",
    "\n",
    "model.fit(X_train,Y_train,max_iter,step)\n",
    "\n",
    "plt.plot(range(max_iter),model.cost)\n",
    "plt.show()\n"
   ]
  },
  {
   "cell_type": "code",
   "execution_count": 8,
   "metadata": {},
   "outputs": [
    {
     "name": "stdout",
     "output_type": "stream",
     "text": [
      "[25519.789610453397, 25519.789610453397, 25519.789610453397, 25519.789610453397, 25519.789610453397, 25519.789610453397, 25519.789610453397, 25519.789610453397, 25519.789610453397, 25519.789610453397, 25519.789610453397, 25519.789610453397, 25519.789610453397, 25519.789610453397, 25519.789610453397, 25519.789610453397, 25519.789610453397, 25519.789610453397, 25519.789610453397, 25519.789610453397, 25519.789610453397, 25519.789610453397, 25519.789610453397, 25519.789610453397, 25519.789610453397, 25519.789610453397, 25519.789610453397, 25519.789610453397, 25519.789610453397, 25519.789610453397, 25519.789610453397, 25519.789610453397, 25519.789610453397, 25519.789610453397, 25519.789610453397, 25519.789610453397, 25519.789610453397, 25519.789610453397, 25519.789610453397, 25519.789610453397, 25519.789610453397, 25519.789610453397, 25519.789610453397, 25519.789610453397, 25519.789610453397, 25519.789610453397, 25519.789610453397, 25519.789610453397, 25519.789610453397, 25519.789610453397, 25519.789610453397, 25519.789610453397, 25519.789610453397, 25519.789610453397, 25519.789610453397, 25519.789610453397, 25519.789610453397, 25519.789610453397, 25519.789610453397, 25519.789610453397, 25519.789610453397, 25519.789610453397, 25519.789610453397, 25519.789610453397, 25519.789610453397, 25519.789610453397, 25519.789610453397, 25519.789610453397, 25519.789610453397, 25519.789610453397, 25519.789610453397, 25519.789610453397, 25519.789610453397, 25519.789610453397, 25519.789610453397, 25519.789610453397, 25519.789610453397, 25519.789610453397, 25519.789610453397, 25519.789610453397, 25519.789610453397, 25519.789610453397, 25519.789610453397, 25519.789610453397, 25519.789610453397, 25519.789610453397, 25519.789610453397, 25519.789610453397, 25519.789610453397, 25519.789610453397, 25519.789610453397, 25519.789610453397, 25519.789610453397, 25519.789610453397, 25519.789610453397, 25519.789610453397, 25519.789610453397, 25519.789610453397, 25519.789610453397, 25519.789610453397]\n"
     ]
    }
   ],
   "source": [
    "print(model.cost)"
   ]
  }
 ],
 "metadata": {
  "kernelspec": {
   "display_name": "Python 2",
   "language": "python",
   "name": "python2"
  },
  "language_info": {
   "codemirror_mode": {
    "name": "ipython",
    "version": 2
   },
   "file_extension": ".py",
   "mimetype": "text/x-python",
   "name": "python",
   "nbconvert_exporter": "python",
   "pygments_lexer": "ipython2",
   "version": "2.7.14"
  }
 },
 "nbformat": 4,
 "nbformat_minor": 2
}
