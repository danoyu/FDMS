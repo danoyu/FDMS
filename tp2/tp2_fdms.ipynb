{
 "cells": [
  {
   "cell_type": "markdown",
   "metadata": {},
   "source": [
    "# Question 1"
   ]
  },
  {
   "cell_type": "code",
   "execution_count": 2,
   "metadata": {},
   "outputs": [],
   "source": [
    "import pandas as pd\n",
    "import numpy as np\n",
    "\n",
    "df = pd.read_table('bluegills.txt')\n",
    "#df.info()\n",
    "#df.head(100)"
   ]
  },
  {
   "cell_type": "markdown",
   "metadata": {},
   "source": [
    "# Question 2"
   ]
  },
  {
   "cell_type": "code",
   "execution_count": 10,
   "metadata": {},
   "outputs": [
    {
     "data": {
      "image/png": "[encoded data removed]",
      "text/plain": [
       "<matplotlib.figure.Figure at 0xc541d30>"
      ]
     },
     "metadata": {},
     "output_type": "display_data"
    }
   ],
   "source": [
    "#df.info()\n",
    "#df.head(10)\n",
    "\n",
    "import matplotlib.pyplot as plt\n",
    "\n",
    "x = df['age']\n",
    "y = df['length']\n",
    "\n",
    "plt.scatter(x,y)\n",
    "plt.xlabel('age')\n",
    "plt.ylabel('lenght')\n",
    "plt.show()\n",
    "\n"
   ]
  },
  {
   "cell_type": "code",
   "execution_count": 24,
   "metadata": {},
   "outputs": [],
   "source": [
    "from sklearn.model_selection import train_test_split\n",
    "from sklearn.metrics import mean_squared_error\n",
    "\n",
    "#renvoi nb-1 polynomes de degres 1 à nb\n",
    "def init_list_poly(X_train,y_train,max_deg):\n",
    "    list_poly = []\n",
    "    #initilaise nb polynomes et les place dans list_poly\n",
    "    for j in range(1,max_deg+1):\n",
    "        poly = np.polyfit(X_train, y_train, j)\n",
    "        list_poly.append(poly)\n",
    "    return list_poly\n",
    "\n",
    "#renvoi la liste des mse pour une liste de polynomes donnée\n",
    "def mse(X_train, y_train, X_test, y_test, max_deg):\n",
    "    #dictionnaire {resultat : polynome}\n",
    "    mse = []\n",
    "    x_test = X_test.values\n",
    "    list_poly = init_list_poly(X_train,y_train,max_deg)\n",
    "    for poly in list_poly:\n",
    "        m = 0\n",
    "        y_pred = []\n",
    "        #pour chaque polynome dans z on evalue\n",
    "        for k in range(len(x_test)):\n",
    "            #calcul la valeur du polynome poly avec les donnees de test et le cast en int\n",
    "            res = np.polyval(poly,x_test[k]).astype(int)\n",
    "            y_pred.append(res)\n",
    "        m = (round(mean_squared_error(y_test.values, y_pred),2))\n",
    "        mse.append(m)\n",
    "    return mse\n",
    "\n",
    "#renvoi le polynome possédant le meileur score,son score et son degre\n",
    "def min_deg_poly(list_score):\n",
    "    index_min = np.argmin(list_score)\n",
    "    score_min = list_score[index_min]\n",
    "    return 'Le polynomes de degre ' + str(index_min+1) +' minimise le score avec : '+ str(score_min)\n"
   ]
  },
  {
   "cell_type": "markdown",
   "metadata": {},
   "source": [
    "# Question 3"
   ]
  },
  {
   "cell_type": "code",
   "execution_count": 43,
   "metadata": {},
   "outputs": [
    {
     "name": "stdout",
     "output_type": "stream",
     "text": [
      "Le polynomes de degre 4 minimise le score avec : 274.94\n",
      "Le polynomes de degre 2 minimise le score avec : 330.87\n",
      "Le polynomes de degre 2 minimise le score avec : 207.25\n",
      "Le polynomes de degre 2 minimise le score avec : 245.88\n",
      "Le polynomes de degre 3 minimise le score avec : 264.57\n",
      "Le polynomes de degre 2 minimise le score avec : 186.75\n",
      "Le polynomes de degre 3 minimise le score avec : 331.87\n",
      "Le polynomes de degre 2 minimise le score avec : 299.51\n",
      "Le polynomes de degre 3 minimise le score avec : 242.32\n",
      "Le polynomes de degre 2 minimise le score avec : 181.82\n"
     ]
    }
   ],
   "source": [
    "#non stable car les decoupe differes\n",
    "#nb - nombre de decoupage\n",
    "#renvoi une liste contenant les sommes des scores selon le degres\n",
    "def decoupage_fixe(nb,max_deg,score):\n",
    "    list_score = [0]*(max_deg)\n",
    "    for i in range(nb):\n",
    "        X_train, X_test, y_train, y_test = train_test_split(x, y, test_size=0.20)\n",
    "        m = score(X_train, y_train, X_test, y_test, max_deg)\n",
    "        for i in range(len(m)):\n",
    "            list_score[i] += m[i]\n",
    "    return list_score\n",
    "\n",
    "#resultat non stable car les découpages sont tout le temps differents\n",
    "#decommenter les 2 lignes suivantes pour resultats avec des polynomes de degres jusqu'a 4 et 2 découpages\n",
    "#for i in range(10):\n",
    "#     print(min_deg_poly(decoupage_fixe(2,4,mse)))\n",
    "\n"
   ]
  },
  {
   "cell_type": "markdown",
   "metadata": {},
   "source": [
    "# Question 4"
   ]
  },
  {
   "cell_type": "code",
   "execution_count": 39,
   "metadata": {},
   "outputs": [
    {
     "name": "stdout",
     "output_type": "stream",
     "text": [
      "Le polynomes de degre 2 minimise le score avec : 1212.35\n",
      "Le polynomes de degre 2 minimise le score avec : 1273.26\n",
      "Le polynomes de degre 2 minimise le score avec : 1213.51\n",
      "Le polynomes de degre 2 minimise le score avec : 1247.47\n",
      "Le polynomes de degre 2 minimise le score avec : 1230.84\n",
      "Le polynomes de degre 2 minimise le score avec : 1207.34\n",
      "Le polynomes de degre 2 minimise le score avec : 1219.16\n",
      "Le polynomes de degre 2 minimise le score avec : 1262.04\n",
      "Le polynomes de degre 2 minimise le score avec : 1258.87\n",
      "Le polynomes de degre 2 minimise le score avec : 1214.93\n"
     ]
    }
   ],
   "source": [
    "from sklearn.cross_validation import KFold\n",
    "\n",
    "#non stable car les decoupes differes\n",
    "def cross_validation(n_folds,max_deg,score):\n",
    "    cv = KFold(n=len(df),n_folds=n_folds,shuffle=True)\n",
    "    list_score = [0]*(max_deg)\n",
    "    for training_set, test_set in cv:\n",
    "        X_train = x[training_set]\n",
    "        y_train = y[training_set]\n",
    "        X_test = x[test_set]\n",
    "        y_test = y[test_set]\n",
    "        m = score(X_train, y_train, X_test, y_test, max_deg)\n",
    "        for i in range(len(m)):\n",
    "            list_score[i] += m[i]\n",
    "    return np.around(list_score,2)\n",
    "\n",
    "#resultat pseudo-stable car les découpages sont differents mais plus stable que le decoupage fixe\n",
    "#decommenter les 2 lignes suivantes pour resultats avec des polynomes de degres jusqu'a 4 et 10 découpages\n",
    "#for i in range(10):\n",
    "#     print(min_deg_poly(cross_validation(10,4,mse)))"
   ]
  },
  {
   "cell_type": "markdown",
   "metadata": {},
   "source": [
    "# Question 5"
   ]
  },
  {
   "cell_type": "code",
   "execution_count": 44,
   "metadata": {},
   "outputs": [
    {
     "name": "stdout",
     "output_type": "stream",
     "text": [
      "Le polynomes de degre 2 minimise le score avec : 9432.0\n",
      "Le polynomes de degre 2 minimise le score avec : 9432.0\n",
      "Le polynomes de degre 2 minimise le score avec : 9432.0\n",
      "Le polynomes de degre 2 minimise le score avec : 9432.0\n",
      "Le polynomes de degre 2 minimise le score avec : 9432.0\n",
      "Le polynomes de degre 2 minimise le score avec : 9432.0\n",
      "Le polynomes de degre 2 minimise le score avec : 9432.0\n",
      "Le polynomes de degre 2 minimise le score avec : 9432.0\n",
      "Le polynomes de degre 2 minimise le score avec : 9432.0\n",
      "Le polynomes de degre 2 minimise le score avec : 9432.0\n"
     ]
    }
   ],
   "source": [
    "from sklearn.model_selection import LeaveOneOut\n",
    "\n",
    "loo = LeaveOneOut()\n",
    "\n",
    "#stable car tout le temps la meme decoupe \n",
    "def leave_one_out(max_deg, score):\n",
    "    #l'implementation avec un dictionnaire pose un probleme avec LeaveOneOut. En effet un dictionnaire ne peut stocker deux clefs identiques.\n",
    "    # On a alors un dictionnaire de taille 20 alors qu'on devrait en avoir un de taille 78(taille de df)\n",
    "    list_score = [0]*(max_deg)\n",
    "    for train, test in loo.split(df):\n",
    "        X_train = x[train]\n",
    "        y_train = y[train]\n",
    "        X_test = x[test]\n",
    "        y_test = y[test]\n",
    "        m = score(X_train, y_train, X_test, y_test, max_deg)\n",
    "        for i in range(len(m)):\n",
    "            list_score[i] += m[i]\n",
    "    return list_score\n",
    "\n",
    "#resultat tout le temps stable car les decoupes sont toutes les memes\n",
    "#decommenter les 2 lignes suivantes pour resultats avec des polynomes de degres jusqu'a 4\n",
    "#for i in range(10):\n",
    "#       print(min_deg_poly(leave_one_out(4,mse)))"
   ]
  },
  {
   "cell_type": "markdown",
   "metadata": {},
   "source": [
    "# Question 6"
   ]
  },
  {
   "cell_type": "code",
   "execution_count": 46,
   "metadata": {},
   "outputs": [
    {
     "name": "stdout",
     "output_type": "stream",
     "text": [
      "Decoupage fixe : Le polynomes de degre 2 minimise le score avec : 278.8\n",
      "Cross validation : Le polynomes de degre 2 minimise le score avec : 336.76\n"
     ]
    },
    {
     "name": "stderr",
     "output_type": "stream",
     "text": [
      "c:\\python27\\lib\\site-packages\\ipykernel_launcher.py:19: RuntimeWarning: divide by zero encountered in log\n",
      "c:\\python27\\lib\\site-packages\\ipykernel_launcher.py:19: RuntimeWarning: invalid value encountered in double_scalars\n"
     ]
    },
    {
     "name": "stdout",
     "output_type": "stream",
     "text": [
      "Leave one out : Le polynomes de degre 2 minimise le score avec : nan\n",
      "Decoupage fixe : Le polynomes de degre 2 minimise le score avec : 283.15\n",
      "Cross validation : Le polynomes de degre 2 minimise le score avec : 338.9\n",
      "Leave one out : Le polynomes de degre 2 minimise le score avec : nan\n",
      "Decoupage fixe : Le polynomes de degre 2 minimise le score avec : 275.49\n",
      "Cross validation : Le polynomes de degre 2 minimise le score avec : 340.36\n",
      "Leave one out : Le polynomes de degre 2 minimise le score avec : nan\n",
      "Decoupage fixe : Le polynomes de degre 4 minimise le score avec : 276.14\n",
      "Cross validation : Le polynomes de degre 2 minimise le score avec : 338.95\n",
      "Leave one out : Le polynomes de degre 2 minimise le score avec : nan\n",
      "Decoupage fixe : Le polynomes de degre 3 minimise le score avec : 282.26\n",
      "Cross validation : Le polynomes de degre 2 minimise le score avec : 338.24\n",
      "Leave one out : Le polynomes de degre 2 minimise le score avec : nan\n",
      "Decoupage fixe : Le polynomes de degre 2 minimise le score avec : 274.6\n",
      "Cross validation : Le polynomes de degre 2 minimise le score avec : 336.3\n",
      "Leave one out : Le polynomes de degre 2 minimise le score avec : nan\n",
      "Decoupage fixe : Le polynomes de degre 2 minimise le score avec : 277.99\n",
      "Cross validation : Le polynomes de degre 2 minimise le score avec : 339.13\n",
      "Leave one out : Le polynomes de degre 2 minimise le score avec : nan\n",
      "Decoupage fixe : Le polynomes de degre 2 minimise le score avec : 275.57\n",
      "Cross validation : Le polynomes de degre 2 minimise le score avec : 338.91\n",
      "Leave one out : Le polynomes de degre 2 minimise le score avec : nan\n",
      "Decoupage fixe : Le polynomes de degre 2 minimise le score avec : 285.27\n",
      "Cross validation : Le polynomes de degre 2 minimise le score avec : 336.35\n",
      "Leave one out : Le polynomes de degre 2 minimise le score avec : nan\n",
      "Decoupage fixe : Le polynomes de degre 3 minimise le score avec : 281.38\n",
      "Cross validation : Le polynomes de degre 2 minimise le score avec : 334.47\n",
      "Leave one out : Le polynomes de degre 2 minimise le score avec : nan\n"
     ]
    }
   ],
   "source": [
    "#AIC citerion\n",
    "#renvoi la liste des aic pour une liste de polynomes donnée\n",
    "def aic(X_train, y_train, X_test, y_test, max_deg):\n",
    "    #dictionnaire {resultat : polynome}\n",
    "    aic = []\n",
    "    x_test = X_test.values\n",
    "    k= max_deg\n",
    "    n = len(x_test)\n",
    "    list_poly = init_list_poly(X_train,y_train,max_deg)\n",
    "    for poly in list_poly:\n",
    "        m = 0\n",
    "        y_pred = []\n",
    "        #pour chaque polynome dans z on evalue\n",
    "        for k in range(n):\n",
    "            #calcul la valeur du polynome poly avec les donnees de test et le cast en int\n",
    "            res = np.polyval(poly,x_test[k]).astype(int)\n",
    "            y_pred.append(res)\n",
    "        m = mean_squared_error(y_test.values, y_pred)\n",
    "        a = round(k + 2 + n/2 * np.log(2*np.pi * m),2)\n",
    "        aic.append(a)\n",
    "    return aic\n",
    "\n",
    "#aic = k + 2 +n/2+ n/2 * np.log(2 * np.pi * mse)\n",
    "#aic += n/2. * np.log(2 * np.pi * rss/n)\n",
    "#for i in range(10):\n",
    "#    print('Decoupage fixe : ' + min_deg_poly(decoupage_fixe(4,4,aic)))\n",
    "#    print('Cross validation : ' + min_deg_poly(cross_validation(10,4,aic)))\n",
    "#    # Probleme de log(0)\n",
    "#    # En effet on peut avoir des cas ou mse = 0 car on prend pratiquement toute les données pour l'apprentissage et on a donc un modéle qui colle au donnée et donc sans erreur lors du seul test si la donnée est redondante\n",
    "#    print('Leave one out : ' + min_deg_poly(leave_one_out(4,aic)))"
   ]
  },
  {
   "cell_type": "markdown",
   "metadata": {},
   "source": [
    "# Question 7"
   ]
  },
  {
   "cell_type": "code",
   "execution_count": 136,
   "metadata": {},
   "outputs": [
    {
     "name": "stdout",
     "output_type": "stream",
     "text": [
      "Decoupage fixe : Le polynomes de degre 1 minimise le score 291.04\n",
      "Cross validation : Le polynomes de degre 1 minimise le score 179.91\n"
     ]
    },
    {
     "name": "stderr",
     "output_type": "stream",
     "text": [
      "c:\\python27\\lib\\site-packages\\ipykernel_launcher.py:19: RuntimeWarning: divide by zero encountered in log\n"
     ]
    },
    {
     "name": "stdout",
     "output_type": "stream",
     "text": [
      "Leave one out : Le polynomes de degre 1 minimise le score -610.15\n"
     ]
    }
   ],
   "source": [
    "#BIC citerion\n",
    "#renvoi la liste des aic pour une liste de polynomes donnée\n",
    "def bic(X_train, y_train, X_test, y_test, max_deg):\n",
    "    #dictionnaire {resultat : polynome}\n",
    "    bic = []\n",
    "    x_test = X_test.values\n",
    "    k= max_deg\n",
    "    n = len(x_test)\n",
    "    list_poly = init_list_poly(X_train,y_train,max_deg)\n",
    "    for poly in list_poly:\n",
    "        m = 0\n",
    "        y_pred = []\n",
    "        #pour chaque polynome dans z on evalue\n",
    "        for k in range(n):\n",
    "            #calcul la valeur du polynome poly avec les donnees de test et le cast en int\n",
    "            res = np.polyval(poly,x_test[k]).astype(int)\n",
    "            y_pred.append(res)\n",
    "        m = mean_squared_error(y_test.values, y_pred)\n",
    "        b = round(2*k*np.log(n) - 2*np.log(m),2)\n",
    "        bic.append(b)\n",
    "        #print(bic)\n",
    "    return bic\n",
    "#for i in range(10):\n",
    "#    print('Decoupage fixe : ' + min_deg_poly(decoupage_fixe(4,4,bic)))\n",
    "#    print('Cross validation : ' + min_deg_poly(cross_validation(10,4,bic)))\n",
    "    # Meme Probleme de log(0) qu'avec AIC\n",
    "    # En effet on peut avoir des cas ou mse = 0 car on prend pratiquement toute les données pour l'apprentissage et on a donc un modéle qui colle au donnée et donc sans erreur lors du seul test si la donnée est redondante\n",
    "#    print('Leave one out : ' + min_deg_poly(leave_one_out(4,bic)))"
   ]
  },
  {
   "cell_type": "code",
   "execution_count": null,
   "metadata": {},
   "outputs": [],
   "source": []
  },
  {
   "cell_type": "code",
   "execution_count": null,
   "metadata": {},
   "outputs": [],
   "source": [
    "\n"
   ]
  }
 ],
 "metadata": {
  "kernelspec": {
   "display_name": "Python 2",
   "language": "python",
   "name": "python2"
  },
  "language_info": {
   "codemirror_mode": {
    "name": "ipython",
    "version": 2
   },
   "file_extension": ".py",
   "mimetype": "text/x-python",
   "name": "python",
   "nbconvert_exporter": "python",
   "pygments_lexer": "ipython2",
   "version": "2.7.14"
  }
 },
 "nbformat": 4,
 "nbformat_minor": 2
}
