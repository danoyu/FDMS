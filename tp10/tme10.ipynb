{
 "cells": [
  {
   "cell_type": "code",
   "execution_count": 6,
   "metadata": {},
   "outputs": [],
   "source": [
    "import pandas as pd\n",
    "import numpy as np\n",
    "import math\n",
    "\n",
    "df = pd.read_csv('CTR.txt',delimiter=':',header = None, names=['num article','rep en 5d','taux de clics'])\n",
    "fich = df.get_values()"
   ]
  },
  {
   "cell_type": "code",
   "execution_count": 7,
   "metadata": {},
   "outputs": [
    {
     "name": "stdout",
     "output_type": "stream",
     "text": [
      "[   82.26612661   386.23033917    36.79610613  1339.63503105   162.76444454\n",
      "    11.54117114   488.7300798    177.71849538    30.8446575   1229.80638244]\n"
     ]
    }
   ],
   "source": [
    "#random a chaque ligne\n",
    "\n",
    "def generate_data(fichier):\n",
    "    article = {}\n",
    "    for ligne in fichier:\n",
    "        #numero de l'article\n",
    "        num = ligne[0]\n",
    "        #annonceurs\n",
    "        annonceurs = ligne[1]\n",
    "        annonceurs = annonceurs.split(';')\n",
    "        annonceurs = np.array(annonceurs,dtype=float)\n",
    "        #contexte\n",
    "        contexte = ligne[2]\n",
    "        contexte = contexte.split(';')\n",
    "        contexte = np.array(contexte,dtype=float)\n",
    "        article[num] = [annonceurs,contexte]\n",
    "    return article\n",
    "        \n",
    "\n",
    "def randomBaseline(ligne):\n",
    "    opt = str(ligne[2])\n",
    "    opt = opt.split(';')\n",
    "    return np.random.randint(0,len(opt))\n",
    "\n",
    "#opti sur chaque ligne\n",
    "def staticBestBaseline(ligne):\n",
    "    opt = str(ligne[2])\n",
    "    opt = opt.split(';')\n",
    "    #return index de l'arg max => pub numero ...\n",
    "    return np.argmax(opt)\n",
    "\n",
    "# meilleur selon la moyenne cumulé \n",
    "# tout le temps le meme \n",
    "def optimaleBaseline(fich):\n",
    "    sum_cumule = np.zeros(10, dtype=float)\n",
    "    for ligne in fich:\n",
    "        opt = str(ligne[2])\n",
    "        opt = opt.split(';')\n",
    "        opt = np.array(opt,dtype=float)\n",
    "        sum_cumule += opt\n",
    "    print(sum_cumule)\n",
    "    return np.argmax(sum_cumule)\n",
    "        \n",
    "    \n",
    "taux_moyen = optimaleBaseline(fich)\n",
    "\n",
    "# staticBestBaseline(fich[0])\n",
    "\n",
    "# randomBaseline(fich[0])\n",
    "fich = generate_data(fich)\n"
   ]
  },
  {
   "cell_type": "code",
   "execution_count": 9,
   "metadata": {},
   "outputs": [
    {
     "name": "stdout",
     "output_type": "stream",
     "text": [
      "0.748370913771\n",
      "0.13375446327\n",
      "0.0416572684492\n"
     ]
    }
   ],
   "source": [
    "# on s'arrete quand on veut c'est de l'apprentissage \n",
    "# μbi,x =1/x Somme(s=1,x) {gi,s} avec gi,s ls-ieme reward obtenu par le bras i\n",
    "def borne(means,count,t):\n",
    "    res = means + np.sqrt(2*np.log(t)/count)\n",
    "#     print(res)\n",
    "    return res\n",
    "\n",
    "# means[action] = (1 - 1/count[action]) * means[action] + (1/count[action]) * reward\n",
    "\n",
    "means = np.zeros(5)\n",
    "count_action = np.zeros(5)\n",
    "\n",
    "r = 0\n",
    "for t in range(3):\n",
    "    if t < 5 :\n",
    "        action = t\n",
    "    else :\n",
    "        action = np.argmax(borne(means,t,count_action))\n",
    "#     print(action)\n",
    "    reward_action = fich[t][0][action]\n",
    "    r += reward_action\n",
    "    count_action[action] += 1\n",
    "    means[action] = (1 - 1/count_action[action]) * means[action] + (1/count_action[action]) * reward_action\n",
    "\n",
    "\n"
   ]
  }
 ],
 "metadata": {
  "kernelspec": {
   "display_name": "Python 2",
   "language": "python",
   "name": "python2"
  },
  "language_info": {
   "codemirror_mode": {
    "name": "ipython",
    "version": 2
   },
   "file_extension": ".py",
   "mimetype": "text/x-python",
   "name": "python",
   "nbconvert_exporter": "python",
   "pygments_lexer": "ipython2",
   "version": "2.7.14"
  }
 },
 "nbformat": 4,
 "nbformat_minor": 2
}
