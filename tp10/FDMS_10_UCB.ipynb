{
 "cells": [
  {
   "cell_type": "code",
   "execution_count": 64,
   "metadata": {},
   "outputs": [],
   "source": [
    "import pandas as pd\n",
    "import numpy as np\n",
    "import math\n",
    "\n",
    "df = pd.read_csv('CTR.txt',delimiter=':',header = None, names=['num article','rep en 5d','taux de clics'])\n",
    "fich = df.get_values()\n",
    "fich = generate_data(fich)"
   ]
  },
  {
   "cell_type": "code",
   "execution_count": 67,
   "metadata": {},
   "outputs": [
    {
     "data": {
      "text/plain": [
       "6"
      ]
     },
     "execution_count": 67,
     "metadata": {},
     "output_type": "execute_result"
    }
   ],
   "source": [
    "#random a chaque ligne\n",
    "def generate_data(fichier):\n",
    "    article = {}\n",
    "    for ligne in fichier:\n",
    "        #numero de l'article\n",
    "        num = ligne[0]\n",
    "        #annonceurs\n",
    "        annonceurs = ligne[1]\n",
    "        annonceurs = annonceurs.split(';')\n",
    "        annonceurs = np.array(annonceurs,dtype=float)\n",
    "        #contexte\n",
    "        contexte = ligne[2]\n",
    "        contexte = contexte.split(';')\n",
    "        contexte = np.array(contexte,dtype=float)\n",
    "        article[num] = [annonceurs,contexte]\n",
    "    return article\n",
    "        \n",
    "#renvoi le numero de l'action\n",
    "def randomBaseline(ligne):    \n",
    "    return np.random.randint(0,len(ligne[1]))\n",
    "\n",
    "#opti sur chaque ligne\n",
    "def optimaleBaseline(ligne):\n",
    "#     print(ligne[1])\n",
    "    #return index de l'arg max => pub numero ...\n",
    "    return np.argmax(ligne[1])\n",
    "\n",
    "# meilleur selon la moyenne cumulé \n",
    "# tout le temps le meme \n",
    "def staticBestBaseline(fich):\n",
    "    sum_cumule = np.zeros(10, dtype=float)\n",
    "    for i in fich:\n",
    "        sum_cumule += fich[i][1]\n",
    "    return np.argmax(sum_cumule)\n",
    "        \n",
    "    \n",
    "optimaleBaseline(fich[0])\n",
    "\n",
    "staticBestBaseline(fich[0])\n",
    "\n",
    "\n",
    "randomBaseline(fich[0])"
   ]
  },
  {
   "cell_type": "code",
   "execution_count": 84,
   "metadata": {},
   "outputs": [
    {
     "name": "stdout",
     "output_type": "stream",
     "text": [
      "6.41142996272\n",
      "30.1437602403\n",
      "25.8029484235\n",
      "25.582651724\n"
     ]
    }
   ],
   "source": [
    "\n",
    "# on s'arrete quand on veut c'est de l'apprentissage \n",
    "# μbi,x =1/x Somme(s=1,x) {gi,s} avec gi,s ls-ieme reward obtenu par le bras i\n",
    "def borne(means,count,t):\n",
    "    res = means + np.sqrt(2*np.log(t)/count)\n",
    "#     print(res)\n",
    "    return res\n",
    "\n",
    "# means[action] = (1 - 1/count[action]) * means[action] + (1/count[action]) * reward\n",
    "\n",
    "means = np.zeros(5)\n",
    "count_action = np.zeros(5)\n",
    "\n",
    "r = 0\n",
    "action_staticBest = staticBestBaseline(fich)\n",
    "reward_staticBest = 0\n",
    "reward_random = 0\n",
    "reward_optimale = 0\n",
    "\n",
    "for t in range(10**2):\n",
    "    if t < 5 :\n",
    "        action = t\n",
    "    else :\n",
    "        action = np.argmax(borne(means,t,count_action))\n",
    "        \n",
    "    index = t%len(fich)\n",
    "    \n",
    "    action_random = randomBaseline(fich[index])\n",
    "    reward_random += fich[index][1][action_random]\n",
    "    \n",
    "    \n",
    "    reward_staticBest += fich[index][1][action_staticBest]\n",
    "    \n",
    "    action_optimale = optimaleBaseline(fich[index])\n",
    "#     print(action_optimale)\n",
    "    reward_optimale += fich[index][1][action_optimale]\n",
    "    \n",
    "    reward_action = fich[index][1][action]\n",
    "\n",
    "    r += reward_action\n",
    "    count_action[action] += 1\n",
    "    means[action] = (1 - 1/count_action[action]) * means[action] + (1/count_action[action]) * reward_action\n",
    "\n",
    "    \n",
    "print(reward_random)\n",
    "print(reward_optimale)\n",
    "print(reward_staticBest)\n",
    "print(r)\n",
    "    "
   ]
  }
 ],
 "metadata": {
  "kernelspec": {
   "display_name": "Python 3",
   "language": "python",
   "name": "python3"
  },
  "language_info": {
   "codemirror_mode": {
    "name": "ipython",
    "version": 3
   },
   "file_extension": ".py",
   "mimetype": "text/x-python",
   "name": "python",
   "nbconvert_exporter": "python",
   "pygments_lexer": "ipython3",
   "version": "3.5.3"
  }
 },
 "nbformat": 4,
 "nbformat_minor": 2
}
