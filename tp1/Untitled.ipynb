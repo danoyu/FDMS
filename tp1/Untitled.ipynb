{
 "cells": [
  {
   "cell_type": "code",
   "execution_count": 4,
   "metadata": {},
   "outputs": [],
   "source": [
    "import pandas as pd\n",
    "import numpy as np\n",
    "\n",
    "df = pd.read_csv('data/train.csv')\n",
    "df = df.drop(['Name', 'Ticket', 'Cabin'], axis=1)\n",
    "\n",
    "age_mean = df['Age'].mean()\n",
    "\n",
    "from scipy.stats import mode\n",
    "\n",
    "mode_embarked = mode(df['Embarked'])[0][0]\n",
    "df['Embarked'] = df['Embarked'].fillna(mode_embarked)\n",
    "\n",
    "df['Gender'] = df['Sex'].map({'female': 0, 'male': 1}).astype(int)\n",
    "\n",
    "pd.get_dummies(df['Embarked'], prefix='Embarked').head(10)\n",
    "df = pd.concat([df, pd.get_dummies(df['Embarked'], prefix='Embarked')], axis=1)\n",
    "\n",
    "df = df.drop(['Sex', 'Embarked'], axis=1)\n",
    "\n",
    "cols = df.columns.tolist()\n",
    "cols = [cols[1]] + cols[0:1] + cols[2:]\n",
    "\n",
    "df = df[cols]\n"
   ]
  },
  {
   "cell_type": "code",
   "execution_count": 7,
   "metadata": {},
   "outputs": [
    {
     "name": "stdout",
     "output_type": "stream",
     "text": [
      "<class 'pandas.core.frame.DataFrame'>\n",
      "RangeIndex: 891 entries, 0 to 890\n",
      "Data columns (total 11 columns):\n",
      "Survived       891 non-null int64\n",
      "PassengerId    891 non-null int64\n",
      "Pclass         891 non-null int64\n",
      "Age            891 non-null float64\n",
      "SibSp          891 non-null int64\n",
      "Parch          891 non-null int64\n",
      "Fare           891 non-null float64\n",
      "Gender         891 non-null int32\n",
      "Embarked_C     891 non-null uint8\n",
      "Embarked_Q     891 non-null uint8\n",
      "Embarked_S     891 non-null uint8\n",
      "dtypes: float64(2), int32(1), int64(5), uint8(3)\n",
      "memory usage: 54.9 KB\n"
     ]
    }
   ],
   "source": [
    "df = df.fillna(-1)\n",
    "df.info()\n",
    "train_data = df.values"
   ]
  },
  {
   "cell_type": "code",
   "execution_count": 28,
   "metadata": {},
   "outputs": [],
   "source": [
    "from sklearn.pipeline import Pipeline\n",
    "from sklearn.preprocessing import Imputer\n",
    "from sklearn.ensemble import RandomForestClassifier\n",
    "from sklearn.grid_search import GridSearchCV\n",
    "\n",
    "imputer = Imputer(strategy='mean', missing_values=-1)\n",
    "\n",
    "classifier = RandomForestClassifier(n_estimators=100)\n",
    "\n",
    "pipeline = Pipeline([\n",
    "    ('imp', imputer),\n",
    "    ('clf', classifier),\n",
    "])\n",
    "\n"
   ]
  },
  {
   "cell_type": "code",
   "execution_count": 49,
   "metadata": {},
   "outputs": [],
   "source": [
    "parameter_grid = {\n",
    "    'clf__max_features': [0.5,0.8],\n",
    "    'clf__max_depth': [10,50, None],\n",
    "}"
   ]
  },
  {
   "cell_type": "code",
   "execution_count": 50,
   "metadata": {},
   "outputs": [
    {
     "name": "stdout",
     "output_type": "stream",
     "text": [
      "Fitting 5 folds for each of 9 candidates, totalling 45 fits\n",
      "[CV] clf__max_features=0.5, clf__max_depth=10 ........................\n",
      "[CV]  clf__max_features=0.5, clf__max_depth=10, score=0.687151 -   0.2s\n",
      "[CV] clf__max_features=0.5, clf__max_depth=10 ........................\n"
     ]
    },
    {
     "name": "stderr",
     "output_type": "stream",
     "text": [
      "[Parallel(n_jobs=1)]: Done   1 out of   1 | elapsed:    0.2s remaining:    0.0s\n"
     ]
    },
    {
     "name": "stdout",
     "output_type": "stream",
     "text": [
      "[CV]  clf__max_features=0.5, clf__max_depth=10, score=0.815642 -   0.2s\n",
      "[CV] clf__max_features=0.5, clf__max_depth=10 ........................\n"
     ]
    },
    {
     "name": "stderr",
     "output_type": "stream",
     "text": [
      "[Parallel(n_jobs=1)]: Done   2 out of   2 | elapsed:    0.5s remaining:    0.0s\n"
     ]
    },
    {
     "name": "stdout",
     "output_type": "stream",
     "text": [
      "[CV]  clf__max_features=0.5, clf__max_depth=10, score=0.842697 -   0.2s\n",
      "[CV] clf__max_features=0.5, clf__max_depth=10 ........................\n",
      "[CV]  clf__max_features=0.5, clf__max_depth=10, score=0.797753 -   0.2s\n",
      "[CV] clf__max_features=0.5, clf__max_depth=10 ........................\n",
      "[CV]  clf__max_features=0.5, clf__max_depth=10, score=0.853107 -   0.2s\n",
      "[CV] clf__max_features=1, clf__max_depth=10 ..........................\n",
      "[CV] . clf__max_features=1, clf__max_depth=10, score=0.715084 -   0.2s\n",
      "[CV] clf__max_features=1, clf__max_depth=10 ..........................\n",
      "[CV] . clf__max_features=1, clf__max_depth=10, score=0.804469 -   0.2s\n",
      "[CV] clf__max_features=1, clf__max_depth=10 ..........................\n",
      "[CV] . clf__max_features=1, clf__max_depth=10, score=0.837079 -   0.2s\n",
      "[CV] clf__max_features=1, clf__max_depth=10 ..........................\n",
      "[CV] . clf__max_features=1, clf__max_depth=10, score=0.825843 -   0.2s\n",
      "[CV] clf__max_features=1, clf__max_depth=10 ..........................\n",
      "[CV] . clf__max_features=1, clf__max_depth=10, score=0.830508 -   0.2s\n",
      "[CV] clf__max_features=0.8, clf__max_depth=10 ........................\n",
      "[CV]  clf__max_features=0.8, clf__max_depth=10, score=0.659218 -   0.2s\n",
      "[CV] clf__max_features=0.8, clf__max_depth=10 ........................\n",
      "[CV]  clf__max_features=0.8, clf__max_depth=10, score=0.815642 -   0.2s\n",
      "[CV] clf__max_features=0.8, clf__max_depth=10 ........................\n",
      "[CV]  clf__max_features=0.8, clf__max_depth=10, score=0.820225 -   0.2s\n",
      "[CV] clf__max_features=0.8, clf__max_depth=10 ........................\n",
      "[CV]  clf__max_features=0.8, clf__max_depth=10, score=0.848315 -   0.2s\n",
      "[CV] clf__max_features=0.8, clf__max_depth=10 ........................\n",
      "[CV]  clf__max_features=0.8, clf__max_depth=10, score=0.841808 -   0.2s\n",
      "[CV] clf__max_features=0.5, clf__max_depth=50 ........................\n",
      "[CV]  clf__max_features=0.5, clf__max_depth=50, score=0.681564 -   0.2s\n",
      "[CV] clf__max_features=0.5, clf__max_depth=50 ........................\n",
      "[CV]  clf__max_features=0.5, clf__max_depth=50, score=0.798883 -   0.2s\n",
      "[CV] clf__max_features=0.5, clf__max_depth=50 ........................\n",
      "[CV]  clf__max_features=0.5, clf__max_depth=50, score=0.842697 -   0.2s\n",
      "[CV] clf__max_features=0.5, clf__max_depth=50 ........................\n",
      "[CV]  clf__max_features=0.5, clf__max_depth=50, score=0.803371 -   0.2s\n",
      "[CV] clf__max_features=0.5, clf__max_depth=50 ........................\n",
      "[CV]  clf__max_features=0.5, clf__max_depth=50, score=0.853107 -   0.2s\n",
      "[CV] clf__max_features=1, clf__max_depth=50 ..........................\n",
      "[CV] . clf__max_features=1, clf__max_depth=50, score=0.692737 -   0.2s\n",
      "[CV] clf__max_features=1, clf__max_depth=50 ..........................\n",
      "[CV] . clf__max_features=1, clf__max_depth=50, score=0.798883 -   0.2s\n",
      "[CV] clf__max_features=1, clf__max_depth=50 ..........................\n",
      "[CV] . clf__max_features=1, clf__max_depth=50, score=0.797753 -   0.2s\n",
      "[CV] clf__max_features=1, clf__max_depth=50 ..........................\n",
      "[CV] . clf__max_features=1, clf__max_depth=50, score=0.837079 -   0.2s\n",
      "[CV] clf__max_features=1, clf__max_depth=50 ..........................\n",
      "[CV] . clf__max_features=1, clf__max_depth=50, score=0.836158 -   0.2s\n",
      "[CV] clf__max_features=0.8, clf__max_depth=50 ........................\n",
      "[CV]  clf__max_features=0.8, clf__max_depth=50, score=0.648045 -   0.2s\n",
      "[CV] clf__max_features=0.8, clf__max_depth=50 ........................\n",
      "[CV]  clf__max_features=0.8, clf__max_depth=50, score=0.815642 -   0.2s\n",
      "[CV] clf__max_features=0.8, clf__max_depth=50 ........................\n",
      "[CV]  clf__max_features=0.8, clf__max_depth=50, score=0.842697 -   0.2s\n",
      "[CV] clf__max_features=0.8, clf__max_depth=50 ........................\n",
      "[CV]  clf__max_features=0.8, clf__max_depth=50, score=0.825843 -   0.2s\n",
      "[CV] clf__max_features=0.8, clf__max_depth=50 ........................\n",
      "[CV]  clf__max_features=0.8, clf__max_depth=50, score=0.836158 -   0.2s\n",
      "[CV] clf__max_features=0.5, clf__max_depth=None ......................\n",
      "[CV]  clf__max_features=0.5, clf__max_depth=None, score=0.670391 -   0.2s\n",
      "[CV] clf__max_features=0.5, clf__max_depth=None ......................\n",
      "[CV]  clf__max_features=0.5, clf__max_depth=None, score=0.810056 -   0.2s\n",
      "[CV] clf__max_features=0.5, clf__max_depth=None ......................\n",
      "[CV]  clf__max_features=0.5, clf__max_depth=None, score=0.837079 -   0.2s\n",
      "[CV] clf__max_features=0.5, clf__max_depth=None ......................\n",
      "[CV]  clf__max_features=0.5, clf__max_depth=None, score=0.820225 -   0.2s\n",
      "[CV] clf__max_features=0.5, clf__max_depth=None ......................\n",
      "[CV]  clf__max_features=0.5, clf__max_depth=None, score=0.847458 -   0.2s\n",
      "[CV] clf__max_features=1, clf__max_depth=None ........................\n",
      "[CV]  clf__max_features=1, clf__max_depth=None, score=0.720670 -   0.2s\n",
      "[CV] clf__max_features=1, clf__max_depth=None ........................\n",
      "[CV]  clf__max_features=1, clf__max_depth=None, score=0.782123 -   0.2s\n",
      "[CV] clf__max_features=1, clf__max_depth=None ........................\n",
      "[CV]  clf__max_features=1, clf__max_depth=None, score=0.848315 -   0.2s\n",
      "[CV] clf__max_features=1, clf__max_depth=None ........................\n",
      "[CV]  clf__max_features=1, clf__max_depth=None, score=0.848315 -   0.2s\n",
      "[CV] clf__max_features=1, clf__max_depth=None ........................\n",
      "[CV]  clf__max_features=1, clf__max_depth=None, score=0.841808 -   0.2s\n",
      "[CV] clf__max_features=0.8, clf__max_depth=None ......................\n",
      "[CV]  clf__max_features=0.8, clf__max_depth=None, score=0.625698 -   0.2s\n",
      "[CV] clf__max_features=0.8, clf__max_depth=None ......................\n",
      "[CV]  clf__max_features=0.8, clf__max_depth=None, score=0.826816 -   0.2s\n",
      "[CV] clf__max_features=0.8, clf__max_depth=None ......................\n",
      "[CV]  clf__max_features=0.8, clf__max_depth=None, score=0.825843 -   0.2s\n",
      "[CV] clf__max_features=0.8, clf__max_depth=None ......................\n",
      "[CV]  clf__max_features=0.8, clf__max_depth=None, score=0.842697 -   0.2s\n",
      "[CV] clf__max_features=0.8, clf__max_depth=None ......................\n",
      "[CV]  clf__max_features=0.8, clf__max_depth=None, score=0.841808 -   0.2s\n"
     ]
    },
    {
     "name": "stderr",
     "output_type": "stream",
     "text": [
      "[Parallel(n_jobs=1)]: Done  45 out of  45 | elapsed:   13.7s finished\n"
     ]
    },
    {
     "data": {
      "text/plain": [
       "GridSearchCV(cv=5, error_score='raise',\n",
       "       estimator=Pipeline(memory=None,\n",
       "     steps=[('imp', Imputer(axis=0, copy=True, missing_values=-1, strategy='mean', verbose=0)), ('clf', RandomForestClassifier(bootstrap=True, class_weight=None, criterion='gini',\n",
       "            max_depth=None, max_features='auto', max_leaf_nodes=None,\n",
       "            min_impurity_decrease=0.0, min_impurity_spl...n_jobs=1,\n",
       "            oob_score=False, random_state=None, verbose=0,\n",
       "            warm_start=False))]),\n",
       "       fit_params={}, iid=True, n_jobs=1,\n",
       "       param_grid={'clf__max_features': [0.5, 1, 0.8], 'clf__max_depth': [10, 50, None]},\n",
       "       pre_dispatch='2*n_jobs', refit=True, scoring=None, verbose=3)"
      ]
     },
     "execution_count": 50,
     "metadata": {},
     "output_type": "execute_result"
    }
   ],
   "source": [
    "grid_search = GridSearchCV(pipeline, parameter_grid, cv=5, verbose=3)\n",
    "grid_search.fit(train_data[0::,1::], train_data[0::,0])"
   ]
  },
  {
   "cell_type": "code",
   "execution_count": 52,
   "metadata": {},
   "outputs": [
    {
     "data": {
      "text/plain": [
       "{'clf__max_depth': None, 'clf__max_features': 1}"
      ]
     },
     "execution_count": 52,
     "metadata": {},
     "output_type": "execute_result"
    }
   ],
   "source": [
    "sorted(grid_search.grid_scores_, key=lambda x: x.mean_validation_score)\n",
    "grid_search.best_score_\n",
    "grid_search.best_params_"
   ]
  },
  {
   "cell_type": "code",
   "execution_count": 54,
   "metadata": {},
   "outputs": [
    {
     "data": {
      "text/plain": [
       "count    891.000000\n",
       "mean      23.600640\n",
       "std       17.867496\n",
       "min       -1.000000\n",
       "25%        6.000000\n",
       "50%       24.000000\n",
       "75%       35.000000\n",
       "max       80.000000\n",
       "Name: Age, dtype: float64"
      ]
     },
     "execution_count": 54,
     "metadata": {},
     "output_type": "execute_result"
    }
   ],
   "source": [
    "df['Age'].describe()"
   ]
  },
  {
   "cell_type": "code",
   "execution_count": 55,
   "metadata": {},
   "outputs": [],
   "source": [
    "df['Age'] = df['Age'].map(lambda x: age_mean if x == -1 else x)"
   ]
  },
  {
   "cell_type": "code",
   "execution_count": 64,
   "metadata": {},
   "outputs": [],
   "source": [
    "train_data = df.values\n",
    "\n",
    "model = RandomForestClassifier(n_estimators = 100)\n",
    "model = model.fit(train_data[0:,2:],train_data[0:,0])\n"
   ]
  },
  {
   "cell_type": "code",
   "execution_count": 66,
   "metadata": {},
   "outputs": [],
   "source": [
    "df_test = pd.read_csv('data/test.csv')\n",
    "\n",
    "df_test = df_test.drop(['Name', 'Ticket', 'Cabin'], axis=1)\n"
   ]
  },
  {
   "cell_type": "code",
   "execution_count": 71,
   "metadata": {},
   "outputs": [],
   "source": [
    "df_test['Age'] = df_test['Age'].fillna(age_mean)\n",
    "fare_means = df.pivot_table('Fare', index='Pclass', aggfunc='mean')\n"
   ]
  },
  {
   "cell_type": "code",
   "execution_count": 72,
   "metadata": {},
   "outputs": [
    {
     "ename": "ValueError",
     "evalue": "Input contains NaN, infinity or a value too large for dtype('float32').",
     "output_type": "error",
     "traceback": [
      "\u001b[1;31m---------------------------------------------------------------------------\u001b[0m",
      "\u001b[1;31mValueError\u001b[0m                                Traceback (most recent call last)",
      "\u001b[1;32m<ipython-input-72-b8e40b633966>\u001b[0m in \u001b[0;36m<module>\u001b[1;34m()\u001b[0m\n\u001b[0;32m     10\u001b[0m \u001b[0mtest_data\u001b[0m \u001b[1;33m=\u001b[0m \u001b[0mdf_test\u001b[0m\u001b[1;33m.\u001b[0m\u001b[0mvalues\u001b[0m\u001b[1;33m\u001b[0m\u001b[0m\n\u001b[0;32m     11\u001b[0m \u001b[1;33m\u001b[0m\u001b[0m\n\u001b[1;32m---> 12\u001b[1;33m \u001b[0moutput\u001b[0m \u001b[1;33m=\u001b[0m \u001b[0mmodel\u001b[0m\u001b[1;33m.\u001b[0m\u001b[0mpredict\u001b[0m\u001b[1;33m(\u001b[0m\u001b[0mtest_data\u001b[0m\u001b[1;33m[\u001b[0m\u001b[1;33m:\u001b[0m\u001b[1;33m,\u001b[0m\u001b[1;36m1\u001b[0m\u001b[1;33m:\u001b[0m\u001b[1;33m]\u001b[0m\u001b[1;33m)\u001b[0m\u001b[1;33m\u001b[0m\u001b[0m\n\u001b[0m",
      "\u001b[1;32mc:\\python27\\lib\\site-packages\\sklearn\\ensemble\\forest.pyc\u001b[0m in \u001b[0;36mpredict\u001b[1;34m(self, X)\u001b[0m\n\u001b[0;32m    534\u001b[0m             \u001b[0mThe\u001b[0m \u001b[0mpredicted\u001b[0m \u001b[0mclasses\u001b[0m\u001b[1;33m.\u001b[0m\u001b[1;33m\u001b[0m\u001b[0m\n\u001b[0;32m    535\u001b[0m         \"\"\"\n\u001b[1;32m--> 536\u001b[1;33m         \u001b[0mproba\u001b[0m \u001b[1;33m=\u001b[0m \u001b[0mself\u001b[0m\u001b[1;33m.\u001b[0m\u001b[0mpredict_proba\u001b[0m\u001b[1;33m(\u001b[0m\u001b[0mX\u001b[0m\u001b[1;33m)\u001b[0m\u001b[1;33m\u001b[0m\u001b[0m\n\u001b[0m\u001b[0;32m    537\u001b[0m \u001b[1;33m\u001b[0m\u001b[0m\n\u001b[0;32m    538\u001b[0m         \u001b[1;32mif\u001b[0m \u001b[0mself\u001b[0m\u001b[1;33m.\u001b[0m\u001b[0mn_outputs_\u001b[0m \u001b[1;33m==\u001b[0m \u001b[1;36m1\u001b[0m\u001b[1;33m:\u001b[0m\u001b[1;33m\u001b[0m\u001b[0m\n",
      "\u001b[1;32mc:\\python27\\lib\\site-packages\\sklearn\\ensemble\\forest.pyc\u001b[0m in \u001b[0;36mpredict_proba\u001b[1;34m(self, X)\u001b[0m\n\u001b[0;32m    574\u001b[0m         \u001b[0mcheck_is_fitted\u001b[0m\u001b[1;33m(\u001b[0m\u001b[0mself\u001b[0m\u001b[1;33m,\u001b[0m \u001b[1;34m'estimators_'\u001b[0m\u001b[1;33m)\u001b[0m\u001b[1;33m\u001b[0m\u001b[0m\n\u001b[0;32m    575\u001b[0m         \u001b[1;31m# Check data\u001b[0m\u001b[1;33m\u001b[0m\u001b[1;33m\u001b[0m\u001b[0m\n\u001b[1;32m--> 576\u001b[1;33m         \u001b[0mX\u001b[0m \u001b[1;33m=\u001b[0m \u001b[0mself\u001b[0m\u001b[1;33m.\u001b[0m\u001b[0m_validate_X_predict\u001b[0m\u001b[1;33m(\u001b[0m\u001b[0mX\u001b[0m\u001b[1;33m)\u001b[0m\u001b[1;33m\u001b[0m\u001b[0m\n\u001b[0m\u001b[0;32m    577\u001b[0m \u001b[1;33m\u001b[0m\u001b[0m\n\u001b[0;32m    578\u001b[0m         \u001b[1;31m# Assign chunk of trees to jobs\u001b[0m\u001b[1;33m\u001b[0m\u001b[1;33m\u001b[0m\u001b[0m\n",
      "\u001b[1;32mc:\\python27\\lib\\site-packages\\sklearn\\ensemble\\forest.pyc\u001b[0m in \u001b[0;36m_validate_X_predict\u001b[1;34m(self, X)\u001b[0m\n\u001b[0;32m    354\u001b[0m                                  \"call `fit` before exploiting the model.\")\n\u001b[0;32m    355\u001b[0m \u001b[1;33m\u001b[0m\u001b[0m\n\u001b[1;32m--> 356\u001b[1;33m         \u001b[1;32mreturn\u001b[0m \u001b[0mself\u001b[0m\u001b[1;33m.\u001b[0m\u001b[0mestimators_\u001b[0m\u001b[1;33m[\u001b[0m\u001b[1;36m0\u001b[0m\u001b[1;33m]\u001b[0m\u001b[1;33m.\u001b[0m\u001b[0m_validate_X_predict\u001b[0m\u001b[1;33m(\u001b[0m\u001b[0mX\u001b[0m\u001b[1;33m,\u001b[0m \u001b[0mcheck_input\u001b[0m\u001b[1;33m=\u001b[0m\u001b[0mTrue\u001b[0m\u001b[1;33m)\u001b[0m\u001b[1;33m\u001b[0m\u001b[0m\n\u001b[0m\u001b[0;32m    357\u001b[0m \u001b[1;33m\u001b[0m\u001b[0m\n\u001b[0;32m    358\u001b[0m     \u001b[1;33m@\u001b[0m\u001b[0mproperty\u001b[0m\u001b[1;33m\u001b[0m\u001b[0m\n",
      "\u001b[1;32mc:\\python27\\lib\\site-packages\\sklearn\\tree\\tree.pyc\u001b[0m in \u001b[0;36m_validate_X_predict\u001b[1;34m(self, X, check_input)\u001b[0m\n\u001b[0;32m    371\u001b[0m         \u001b[1;34m\"\"\"Validate X whenever one tries to predict, apply, predict_proba\"\"\"\u001b[0m\u001b[1;33m\u001b[0m\u001b[0m\n\u001b[0;32m    372\u001b[0m         \u001b[1;32mif\u001b[0m \u001b[0mcheck_input\u001b[0m\u001b[1;33m:\u001b[0m\u001b[1;33m\u001b[0m\u001b[0m\n\u001b[1;32m--> 373\u001b[1;33m             \u001b[0mX\u001b[0m \u001b[1;33m=\u001b[0m \u001b[0mcheck_array\u001b[0m\u001b[1;33m(\u001b[0m\u001b[0mX\u001b[0m\u001b[1;33m,\u001b[0m \u001b[0mdtype\u001b[0m\u001b[1;33m=\u001b[0m\u001b[0mDTYPE\u001b[0m\u001b[1;33m,\u001b[0m \u001b[0maccept_sparse\u001b[0m\u001b[1;33m=\u001b[0m\u001b[1;34m\"csr\"\u001b[0m\u001b[1;33m)\u001b[0m\u001b[1;33m\u001b[0m\u001b[0m\n\u001b[0m\u001b[0;32m    374\u001b[0m             if issparse(X) and (X.indices.dtype != np.intc or\n\u001b[0;32m    375\u001b[0m                                 X.indptr.dtype != np.intc):\n",
      "\u001b[1;32mc:\\python27\\lib\\site-packages\\sklearn\\utils\\validation.pyc\u001b[0m in \u001b[0;36mcheck_array\u001b[1;34m(array, accept_sparse, dtype, order, copy, force_all_finite, ensure_2d, allow_nd, ensure_min_samples, ensure_min_features, warn_on_dtype, estimator)\u001b[0m\n\u001b[0;32m    420\u001b[0m                              % (array.ndim, estimator_name))\n\u001b[0;32m    421\u001b[0m         \u001b[1;32mif\u001b[0m \u001b[0mforce_all_finite\u001b[0m\u001b[1;33m:\u001b[0m\u001b[1;33m\u001b[0m\u001b[0m\n\u001b[1;32m--> 422\u001b[1;33m             \u001b[0m_assert_all_finite\u001b[0m\u001b[1;33m(\u001b[0m\u001b[0marray\u001b[0m\u001b[1;33m)\u001b[0m\u001b[1;33m\u001b[0m\u001b[0m\n\u001b[0m\u001b[0;32m    423\u001b[0m \u001b[1;33m\u001b[0m\u001b[0m\n\u001b[0;32m    424\u001b[0m     \u001b[0mshape_repr\u001b[0m \u001b[1;33m=\u001b[0m \u001b[0m_shape_repr\u001b[0m\u001b[1;33m(\u001b[0m\u001b[0marray\u001b[0m\u001b[1;33m.\u001b[0m\u001b[0mshape\u001b[0m\u001b[1;33m)\u001b[0m\u001b[1;33m\u001b[0m\u001b[0m\n",
      "\u001b[1;32mc:\\python27\\lib\\site-packages\\sklearn\\utils\\validation.pyc\u001b[0m in \u001b[0;36m_assert_all_finite\u001b[1;34m(X)\u001b[0m\n\u001b[0;32m     41\u001b[0m             and not np.isfinite(X).all()):\n\u001b[0;32m     42\u001b[0m         raise ValueError(\"Input contains NaN, infinity\"\n\u001b[1;32m---> 43\u001b[1;33m                          \" or a value too large for %r.\" % X.dtype)\n\u001b[0m\u001b[0;32m     44\u001b[0m \u001b[1;33m\u001b[0m\u001b[0m\n\u001b[0;32m     45\u001b[0m \u001b[1;33m\u001b[0m\u001b[0m\n",
      "\u001b[1;31mValueError\u001b[0m: Input contains NaN, infinity or a value too large for dtype('float32')."
     ]
    }
   ],
   "source": [
    "\n",
    "df_test['Fare'] = df_test[['Fare', 'Pclass']].apply(lambda x:\n",
    "                            fare_means[x['Pclass']] if pd.isnull(x['Fare'])\n",
    "                            else x['Fare'], axis=1)\n",
    "\n",
    "df_test['Gender'] = df_test['Sex'].map({'female': 0, 'male': 1}).astype(int)\n",
    "df_test = pd.concat([df_test, pd.get_dummies(df_test['Embarked'], prefix='Embarked')],\n",
    "                axis=1)\n",
    "\n",
    "df_test = df_test.drop(['Sex', 'Embarked'], axis=1)\n",
    "\n",
    "test_data = df_test.values\n",
    "\n",
    "output = model.predict(test_data[:,1:])"
   ]
  },
  {
   "cell_type": "code",
   "execution_count": 63,
   "metadata": {},
   "outputs": [
    {
     "ename": "KeyError",
     "evalue": "(3, u'occurred at index 152')",
     "output_type": "error",
     "traceback": [
      "\u001b[1;31m---------------------------------------------------------------------------\u001b[0m",
      "\u001b[1;31mKeyError\u001b[0m                                  Traceback (most recent call last)",
      "\u001b[1;32m<ipython-input-63-a376e89ecf79>\u001b[0m in \u001b[0;36m<module>\u001b[1;34m()\u001b[0m\n\u001b[0;32m     13\u001b[0m df_test['Fare'] = df_test[['Fare', 'Pclass']].apply(lambda x:\n\u001b[0;32m     14\u001b[0m                             \u001b[0mfare_means\u001b[0m\u001b[1;33m[\u001b[0m\u001b[0mx\u001b[0m\u001b[1;33m[\u001b[0m\u001b[1;34m'Pclass'\u001b[0m\u001b[1;33m]\u001b[0m\u001b[1;33m]\u001b[0m \u001b[1;32mif\u001b[0m \u001b[0mpd\u001b[0m\u001b[1;33m.\u001b[0m\u001b[0misnull\u001b[0m\u001b[1;33m(\u001b[0m\u001b[0mx\u001b[0m\u001b[1;33m[\u001b[0m\u001b[1;34m'Fare'\u001b[0m\u001b[1;33m]\u001b[0m\u001b[1;33m)\u001b[0m\u001b[1;33m\u001b[0m\u001b[0m\n\u001b[1;32m---> 15\u001b[1;33m                             else x['Fare'], axis=1)\n\u001b[0m\u001b[0;32m     16\u001b[0m \u001b[1;33m\u001b[0m\u001b[0m\n\u001b[0;32m     17\u001b[0m \u001b[0mdf_test\u001b[0m\u001b[1;33m[\u001b[0m\u001b[1;34m'Gender'\u001b[0m\u001b[1;33m]\u001b[0m \u001b[1;33m=\u001b[0m \u001b[0mdf_test\u001b[0m\u001b[1;33m[\u001b[0m\u001b[1;34m'Sex'\u001b[0m\u001b[1;33m]\u001b[0m\u001b[1;33m.\u001b[0m\u001b[0mmap\u001b[0m\u001b[1;33m(\u001b[0m\u001b[1;33m{\u001b[0m\u001b[1;34m'female'\u001b[0m\u001b[1;33m:\u001b[0m \u001b[1;36m0\u001b[0m\u001b[1;33m,\u001b[0m \u001b[1;34m'male'\u001b[0m\u001b[1;33m:\u001b[0m \u001b[1;36m1\u001b[0m\u001b[1;33m}\u001b[0m\u001b[1;33m)\u001b[0m\u001b[1;33m.\u001b[0m\u001b[0mastype\u001b[0m\u001b[1;33m(\u001b[0m\u001b[0mint\u001b[0m\u001b[1;33m)\u001b[0m\u001b[1;33m\u001b[0m\u001b[0m\n",
      "\u001b[1;32mc:\\python27\\lib\\site-packages\\pandas\\core\\frame.pyc\u001b[0m in \u001b[0;36mapply\u001b[1;34m(self, func, axis, broadcast, raw, reduce, args, **kwds)\u001b[0m\n\u001b[0;32m   4260\u001b[0m                         \u001b[0mf\u001b[0m\u001b[1;33m,\u001b[0m \u001b[0maxis\u001b[0m\u001b[1;33m,\u001b[0m\u001b[1;33m\u001b[0m\u001b[0m\n\u001b[0;32m   4261\u001b[0m                         \u001b[0mreduce\u001b[0m\u001b[1;33m=\u001b[0m\u001b[0mreduce\u001b[0m\u001b[1;33m,\u001b[0m\u001b[1;33m\u001b[0m\u001b[0m\n\u001b[1;32m-> 4262\u001b[1;33m                         ignore_failures=ignore_failures)\n\u001b[0m\u001b[0;32m   4263\u001b[0m             \u001b[1;32melse\u001b[0m\u001b[1;33m:\u001b[0m\u001b[1;33m\u001b[0m\u001b[0m\n\u001b[0;32m   4264\u001b[0m                 \u001b[1;32mreturn\u001b[0m \u001b[0mself\u001b[0m\u001b[1;33m.\u001b[0m\u001b[0m_apply_broadcast\u001b[0m\u001b[1;33m(\u001b[0m\u001b[0mf\u001b[0m\u001b[1;33m,\u001b[0m \u001b[0maxis\u001b[0m\u001b[1;33m)\u001b[0m\u001b[1;33m\u001b[0m\u001b[0m\n",
      "\u001b[1;32mc:\\python27\\lib\\site-packages\\pandas\\core\\frame.pyc\u001b[0m in \u001b[0;36m_apply_standard\u001b[1;34m(self, func, axis, ignore_failures, reduce)\u001b[0m\n\u001b[0;32m   4356\u001b[0m             \u001b[1;32mtry\u001b[0m\u001b[1;33m:\u001b[0m\u001b[1;33m\u001b[0m\u001b[0m\n\u001b[0;32m   4357\u001b[0m                 \u001b[1;32mfor\u001b[0m \u001b[0mi\u001b[0m\u001b[1;33m,\u001b[0m \u001b[0mv\u001b[0m \u001b[1;32min\u001b[0m \u001b[0menumerate\u001b[0m\u001b[1;33m(\u001b[0m\u001b[0mseries_gen\u001b[0m\u001b[1;33m)\u001b[0m\u001b[1;33m:\u001b[0m\u001b[1;33m\u001b[0m\u001b[0m\n\u001b[1;32m-> 4358\u001b[1;33m                     \u001b[0mresults\u001b[0m\u001b[1;33m[\u001b[0m\u001b[0mi\u001b[0m\u001b[1;33m]\u001b[0m \u001b[1;33m=\u001b[0m \u001b[0mfunc\u001b[0m\u001b[1;33m(\u001b[0m\u001b[0mv\u001b[0m\u001b[1;33m)\u001b[0m\u001b[1;33m\u001b[0m\u001b[0m\n\u001b[0m\u001b[0;32m   4359\u001b[0m                     \u001b[0mkeys\u001b[0m\u001b[1;33m.\u001b[0m\u001b[0mappend\u001b[0m\u001b[1;33m(\u001b[0m\u001b[0mv\u001b[0m\u001b[1;33m.\u001b[0m\u001b[0mname\u001b[0m\u001b[1;33m)\u001b[0m\u001b[1;33m\u001b[0m\u001b[0m\n\u001b[0;32m   4360\u001b[0m             \u001b[1;32mexcept\u001b[0m \u001b[0mException\u001b[0m \u001b[1;32mas\u001b[0m \u001b[0me\u001b[0m\u001b[1;33m:\u001b[0m\u001b[1;33m\u001b[0m\u001b[0m\n",
      "\u001b[1;32m<ipython-input-63-a376e89ecf79>\u001b[0m in \u001b[0;36m<lambda>\u001b[1;34m(x)\u001b[0m\n\u001b[0;32m     12\u001b[0m \u001b[0mfare_means\u001b[0m \u001b[1;33m=\u001b[0m \u001b[0mdf\u001b[0m\u001b[1;33m.\u001b[0m\u001b[0mpivot_table\u001b[0m\u001b[1;33m(\u001b[0m\u001b[1;34m'Fare'\u001b[0m\u001b[1;33m,\u001b[0m \u001b[0mindex\u001b[0m\u001b[1;33m=\u001b[0m\u001b[1;34m'Pclass'\u001b[0m\u001b[1;33m,\u001b[0m \u001b[0maggfunc\u001b[0m\u001b[1;33m=\u001b[0m\u001b[1;34m'mean'\u001b[0m\u001b[1;33m)\u001b[0m\u001b[1;33m\u001b[0m\u001b[0m\n\u001b[0;32m     13\u001b[0m df_test['Fare'] = df_test[['Fare', 'Pclass']].apply(lambda x:\n\u001b[1;32m---> 14\u001b[1;33m                             \u001b[0mfare_means\u001b[0m\u001b[1;33m[\u001b[0m\u001b[0mx\u001b[0m\u001b[1;33m[\u001b[0m\u001b[1;34m'Pclass'\u001b[0m\u001b[1;33m]\u001b[0m\u001b[1;33m]\u001b[0m \u001b[1;32mif\u001b[0m \u001b[0mpd\u001b[0m\u001b[1;33m.\u001b[0m\u001b[0misnull\u001b[0m\u001b[1;33m(\u001b[0m\u001b[0mx\u001b[0m\u001b[1;33m[\u001b[0m\u001b[1;34m'Fare'\u001b[0m\u001b[1;33m]\u001b[0m\u001b[1;33m)\u001b[0m\u001b[1;33m\u001b[0m\u001b[0m\n\u001b[0m\u001b[0;32m     15\u001b[0m                             else x['Fare'], axis=1)\n\u001b[0;32m     16\u001b[0m \u001b[1;33m\u001b[0m\u001b[0m\n",
      "\u001b[1;32mc:\\python27\\lib\\site-packages\\pandas\\core\\frame.pyc\u001b[0m in \u001b[0;36m__getitem__\u001b[1;34m(self, key)\u001b[0m\n\u001b[0;32m   1962\u001b[0m             \u001b[1;32mreturn\u001b[0m \u001b[0mself\u001b[0m\u001b[1;33m.\u001b[0m\u001b[0m_getitem_multilevel\u001b[0m\u001b[1;33m(\u001b[0m\u001b[0mkey\u001b[0m\u001b[1;33m)\u001b[0m\u001b[1;33m\u001b[0m\u001b[0m\n\u001b[0;32m   1963\u001b[0m         \u001b[1;32melse\u001b[0m\u001b[1;33m:\u001b[0m\u001b[1;33m\u001b[0m\u001b[0m\n\u001b[1;32m-> 1964\u001b[1;33m             \u001b[1;32mreturn\u001b[0m \u001b[0mself\u001b[0m\u001b[1;33m.\u001b[0m\u001b[0m_getitem_column\u001b[0m\u001b[1;33m(\u001b[0m\u001b[0mkey\u001b[0m\u001b[1;33m)\u001b[0m\u001b[1;33m\u001b[0m\u001b[0m\n\u001b[0m\u001b[0;32m   1965\u001b[0m \u001b[1;33m\u001b[0m\u001b[0m\n\u001b[0;32m   1966\u001b[0m     \u001b[1;32mdef\u001b[0m \u001b[0m_getitem_column\u001b[0m\u001b[1;33m(\u001b[0m\u001b[0mself\u001b[0m\u001b[1;33m,\u001b[0m \u001b[0mkey\u001b[0m\u001b[1;33m)\u001b[0m\u001b[1;33m:\u001b[0m\u001b[1;33m\u001b[0m\u001b[0m\n",
      "\u001b[1;32mc:\\python27\\lib\\site-packages\\pandas\\core\\frame.pyc\u001b[0m in \u001b[0;36m_getitem_column\u001b[1;34m(self, key)\u001b[0m\n\u001b[0;32m   1969\u001b[0m         \u001b[1;31m# get column\u001b[0m\u001b[1;33m\u001b[0m\u001b[1;33m\u001b[0m\u001b[0m\n\u001b[0;32m   1970\u001b[0m         \u001b[1;32mif\u001b[0m \u001b[0mself\u001b[0m\u001b[1;33m.\u001b[0m\u001b[0mcolumns\u001b[0m\u001b[1;33m.\u001b[0m\u001b[0mis_unique\u001b[0m\u001b[1;33m:\u001b[0m\u001b[1;33m\u001b[0m\u001b[0m\n\u001b[1;32m-> 1971\u001b[1;33m             \u001b[1;32mreturn\u001b[0m \u001b[0mself\u001b[0m\u001b[1;33m.\u001b[0m\u001b[0m_get_item_cache\u001b[0m\u001b[1;33m(\u001b[0m\u001b[0mkey\u001b[0m\u001b[1;33m)\u001b[0m\u001b[1;33m\u001b[0m\u001b[0m\n\u001b[0m\u001b[0;32m   1972\u001b[0m \u001b[1;33m\u001b[0m\u001b[0m\n\u001b[0;32m   1973\u001b[0m         \u001b[1;31m# duplicate columns & possible reduce dimensionality\u001b[0m\u001b[1;33m\u001b[0m\u001b[1;33m\u001b[0m\u001b[0m\n",
      "\u001b[1;32mc:\\python27\\lib\\site-packages\\pandas\\core\\generic.pyc\u001b[0m in \u001b[0;36m_get_item_cache\u001b[1;34m(self, item)\u001b[0m\n\u001b[0;32m   1643\u001b[0m         \u001b[0mres\u001b[0m \u001b[1;33m=\u001b[0m \u001b[0mcache\u001b[0m\u001b[1;33m.\u001b[0m\u001b[0mget\u001b[0m\u001b[1;33m(\u001b[0m\u001b[0mitem\u001b[0m\u001b[1;33m)\u001b[0m\u001b[1;33m\u001b[0m\u001b[0m\n\u001b[0;32m   1644\u001b[0m         \u001b[1;32mif\u001b[0m \u001b[0mres\u001b[0m \u001b[1;32mis\u001b[0m \u001b[0mNone\u001b[0m\u001b[1;33m:\u001b[0m\u001b[1;33m\u001b[0m\u001b[0m\n\u001b[1;32m-> 1645\u001b[1;33m             \u001b[0mvalues\u001b[0m \u001b[1;33m=\u001b[0m \u001b[0mself\u001b[0m\u001b[1;33m.\u001b[0m\u001b[0m_data\u001b[0m\u001b[1;33m.\u001b[0m\u001b[0mget\u001b[0m\u001b[1;33m(\u001b[0m\u001b[0mitem\u001b[0m\u001b[1;33m)\u001b[0m\u001b[1;33m\u001b[0m\u001b[0m\n\u001b[0m\u001b[0;32m   1646\u001b[0m             \u001b[0mres\u001b[0m \u001b[1;33m=\u001b[0m \u001b[0mself\u001b[0m\u001b[1;33m.\u001b[0m\u001b[0m_box_item_values\u001b[0m\u001b[1;33m(\u001b[0m\u001b[0mitem\u001b[0m\u001b[1;33m,\u001b[0m \u001b[0mvalues\u001b[0m\u001b[1;33m)\u001b[0m\u001b[1;33m\u001b[0m\u001b[0m\n\u001b[0;32m   1647\u001b[0m             \u001b[0mcache\u001b[0m\u001b[1;33m[\u001b[0m\u001b[0mitem\u001b[0m\u001b[1;33m]\u001b[0m \u001b[1;33m=\u001b[0m \u001b[0mres\u001b[0m\u001b[1;33m\u001b[0m\u001b[0m\n",
      "\u001b[1;32mc:\\python27\\lib\\site-packages\\pandas\\core\\internals.pyc\u001b[0m in \u001b[0;36mget\u001b[1;34m(self, item, fastpath)\u001b[0m\n\u001b[0;32m   3588\u001b[0m \u001b[1;33m\u001b[0m\u001b[0m\n\u001b[0;32m   3589\u001b[0m             \u001b[1;32mif\u001b[0m \u001b[1;32mnot\u001b[0m \u001b[0misnull\u001b[0m\u001b[1;33m(\u001b[0m\u001b[0mitem\u001b[0m\u001b[1;33m)\u001b[0m\u001b[1;33m:\u001b[0m\u001b[1;33m\u001b[0m\u001b[0m\n\u001b[1;32m-> 3590\u001b[1;33m                 \u001b[0mloc\u001b[0m \u001b[1;33m=\u001b[0m \u001b[0mself\u001b[0m\u001b[1;33m.\u001b[0m\u001b[0mitems\u001b[0m\u001b[1;33m.\u001b[0m\u001b[0mget_loc\u001b[0m\u001b[1;33m(\u001b[0m\u001b[0mitem\u001b[0m\u001b[1;33m)\u001b[0m\u001b[1;33m\u001b[0m\u001b[0m\n\u001b[0m\u001b[0;32m   3591\u001b[0m             \u001b[1;32melse\u001b[0m\u001b[1;33m:\u001b[0m\u001b[1;33m\u001b[0m\u001b[0m\n\u001b[0;32m   3592\u001b[0m                 \u001b[0mindexer\u001b[0m \u001b[1;33m=\u001b[0m \u001b[0mnp\u001b[0m\u001b[1;33m.\u001b[0m\u001b[0marange\u001b[0m\u001b[1;33m(\u001b[0m\u001b[0mlen\u001b[0m\u001b[1;33m(\u001b[0m\u001b[0mself\u001b[0m\u001b[1;33m.\u001b[0m\u001b[0mitems\u001b[0m\u001b[1;33m)\u001b[0m\u001b[1;33m)\u001b[0m\u001b[1;33m[\u001b[0m\u001b[0misnull\u001b[0m\u001b[1;33m(\u001b[0m\u001b[0mself\u001b[0m\u001b[1;33m.\u001b[0m\u001b[0mitems\u001b[0m\u001b[1;33m)\u001b[0m\u001b[1;33m]\u001b[0m\u001b[1;33m\u001b[0m\u001b[0m\n",
      "\u001b[1;32mc:\\python27\\lib\\site-packages\\pandas\\core\\indexes\\base.pyc\u001b[0m in \u001b[0;36mget_loc\u001b[1;34m(self, key, method, tolerance)\u001b[0m\n\u001b[0;32m   2442\u001b[0m                 \u001b[1;32mreturn\u001b[0m \u001b[0mself\u001b[0m\u001b[1;33m.\u001b[0m\u001b[0m_engine\u001b[0m\u001b[1;33m.\u001b[0m\u001b[0mget_loc\u001b[0m\u001b[1;33m(\u001b[0m\u001b[0mkey\u001b[0m\u001b[1;33m)\u001b[0m\u001b[1;33m\u001b[0m\u001b[0m\n\u001b[0;32m   2443\u001b[0m             \u001b[1;32mexcept\u001b[0m \u001b[0mKeyError\u001b[0m\u001b[1;33m:\u001b[0m\u001b[1;33m\u001b[0m\u001b[0m\n\u001b[1;32m-> 2444\u001b[1;33m                 \u001b[1;32mreturn\u001b[0m \u001b[0mself\u001b[0m\u001b[1;33m.\u001b[0m\u001b[0m_engine\u001b[0m\u001b[1;33m.\u001b[0m\u001b[0mget_loc\u001b[0m\u001b[1;33m(\u001b[0m\u001b[0mself\u001b[0m\u001b[1;33m.\u001b[0m\u001b[0m_maybe_cast_indexer\u001b[0m\u001b[1;33m(\u001b[0m\u001b[0mkey\u001b[0m\u001b[1;33m)\u001b[0m\u001b[1;33m)\u001b[0m\u001b[1;33m\u001b[0m\u001b[0m\n\u001b[0m\u001b[0;32m   2445\u001b[0m \u001b[1;33m\u001b[0m\u001b[0m\n\u001b[0;32m   2446\u001b[0m         \u001b[0mindexer\u001b[0m \u001b[1;33m=\u001b[0m \u001b[0mself\u001b[0m\u001b[1;33m.\u001b[0m\u001b[0mget_indexer\u001b[0m\u001b[1;33m(\u001b[0m\u001b[1;33m[\u001b[0m\u001b[0mkey\u001b[0m\u001b[1;33m]\u001b[0m\u001b[1;33m,\u001b[0m \u001b[0mmethod\u001b[0m\u001b[1;33m=\u001b[0m\u001b[0mmethod\u001b[0m\u001b[1;33m,\u001b[0m \u001b[0mtolerance\u001b[0m\u001b[1;33m=\u001b[0m\u001b[0mtolerance\u001b[0m\u001b[1;33m)\u001b[0m\u001b[1;33m\u001b[0m\u001b[0m\n",
      "\u001b[1;32mpandas\\_libs\\index.pyx\u001b[0m in \u001b[0;36mpandas._libs.index.IndexEngine.get_loc (pandas\\_libs\\index.c:5280)\u001b[1;34m()\u001b[0m\n",
      "\u001b[1;32mpandas\\_libs\\index.pyx\u001b[0m in \u001b[0;36mpandas._libs.index.IndexEngine.get_loc (pandas\\_libs\\index.c:5126)\u001b[1;34m()\u001b[0m\n",
      "\u001b[1;32mpandas\\_libs\\hashtable_class_helper.pxi\u001b[0m in \u001b[0;36mpandas._libs.hashtable.PyObjectHashTable.get_item (pandas\\_libs\\hashtable.c:20523)\u001b[1;34m()\u001b[0m\n",
      "\u001b[1;32mpandas\\_libs\\hashtable_class_helper.pxi\u001b[0m in \u001b[0;36mpandas._libs.hashtable.PyObjectHashTable.get_item (pandas\\_libs\\hashtable.c:20477)\u001b[1;34m()\u001b[0m\n",
      "\u001b[1;31mKeyError\u001b[0m: (3, u'occurred at index 152')"
     ]
    }
   ],
   "source": [
    "\n",
    "\n",
    "result = np.c_[test_data[:,0].astype(int), output.astype(int)]\n",
    "\n",
    "print(result)"
   ]
  },
  {
   "cell_type": "code",
   "execution_count": 59,
   "metadata": {},
   "outputs": [
    {
     "name": "stdout",
     "output_type": "stream",
     "text": [
      "Fitting 5 folds for each of 9 candidates, totalling 45 fits\n",
      "[CV] clf__max_features=0.5, clf__max_depth=10 ........................\n",
      "[CV]  clf__max_features=0.5, clf__max_depth=10, score=0.698324 -   0.2s\n",
      "[CV] clf__max_features=0.5, clf__max_depth=10 ........................\n"
     ]
    },
    {
     "name": "stderr",
     "output_type": "stream",
     "text": [
      "[Parallel(n_jobs=1)]: Done   1 out of   1 | elapsed:    0.2s remaining:    0.0s\n"
     ]
    },
    {
     "name": "stdout",
     "output_type": "stream",
     "text": [
      "[CV]  clf__max_features=0.5, clf__max_depth=10, score=0.821229 -   0.2s\n",
      "[CV] clf__max_features=0.5, clf__max_depth=10 ........................\n"
     ]
    },
    {
     "name": "stderr",
     "output_type": "stream",
     "text": [
      "[Parallel(n_jobs=1)]: Done   2 out of   2 | elapsed:    0.5s remaining:    0.0s\n"
     ]
    },
    {
     "name": "stdout",
     "output_type": "stream",
     "text": [
      "[CV]  clf__max_features=0.5, clf__max_depth=10, score=0.848315 -   0.2s\n",
      "[CV] clf__max_features=0.5, clf__max_depth=10 ........................\n",
      "[CV]  clf__max_features=0.5, clf__max_depth=10, score=0.814607 -   0.2s\n",
      "[CV] clf__max_features=0.5, clf__max_depth=10 ........................\n",
      "[CV]  clf__max_features=0.5, clf__max_depth=10, score=0.847458 -   0.2s\n",
      "[CV] clf__max_features=1, clf__max_depth=10 ..........................\n",
      "[CV] . clf__max_features=1, clf__max_depth=10, score=0.720670 -   0.2s\n",
      "[CV] clf__max_features=1, clf__max_depth=10 ..........................\n",
      "[CV] . clf__max_features=1, clf__max_depth=10, score=0.804469 -   0.2s\n",
      "[CV] clf__max_features=1, clf__max_depth=10 ..........................\n",
      "[CV] . clf__max_features=1, clf__max_depth=10, score=0.842697 -   0.2s\n",
      "[CV] clf__max_features=1, clf__max_depth=10 ..........................\n",
      "[CV] . clf__max_features=1, clf__max_depth=10, score=0.825843 -   0.2s\n",
      "[CV] clf__max_features=1, clf__max_depth=10 ..........................\n",
      "[CV] . clf__max_features=1, clf__max_depth=10, score=0.830508 -   0.2s\n",
      "[CV] clf__max_features=0.8, clf__max_depth=10 ........................\n",
      "[CV]  clf__max_features=0.8, clf__max_depth=10, score=0.659218 -   0.2s\n",
      "[CV] clf__max_features=0.8, clf__max_depth=10 ........................\n",
      "[CV]  clf__max_features=0.8, clf__max_depth=10, score=0.826816 -   0.2s\n",
      "[CV] clf__max_features=0.8, clf__max_depth=10 ........................\n",
      "[CV]  clf__max_features=0.8, clf__max_depth=10, score=0.848315 -   0.2s\n",
      "[CV] clf__max_features=0.8, clf__max_depth=10 ........................\n",
      "[CV]  clf__max_features=0.8, clf__max_depth=10, score=0.814607 -   0.2s\n",
      "[CV] clf__max_features=0.8, clf__max_depth=10 ........................\n",
      "[CV]  clf__max_features=0.8, clf__max_depth=10, score=0.853107 -   0.2s\n",
      "[CV] clf__max_features=0.5, clf__max_depth=50 ........................\n",
      "[CV]  clf__max_features=0.5, clf__max_depth=50, score=0.687151 -   0.2s\n",
      "[CV] clf__max_features=0.5, clf__max_depth=50 ........................\n",
      "[CV]  clf__max_features=0.5, clf__max_depth=50, score=0.815642 -   0.2s\n",
      "[CV] clf__max_features=0.5, clf__max_depth=50 ........................\n",
      "[CV]  clf__max_features=0.5, clf__max_depth=50, score=0.848315 -   0.2s\n",
      "[CV] clf__max_features=0.5, clf__max_depth=50 ........................\n",
      "[CV]  clf__max_features=0.5, clf__max_depth=50, score=0.831461 -   0.2s\n",
      "[CV] clf__max_features=0.5, clf__max_depth=50 ........................\n",
      "[CV]  clf__max_features=0.5, clf__max_depth=50, score=0.847458 -   0.2s\n",
      "[CV] clf__max_features=1, clf__max_depth=50 ..........................\n",
      "[CV] . clf__max_features=1, clf__max_depth=50, score=0.726257 -   0.2s\n",
      "[CV] clf__max_features=1, clf__max_depth=50 ..........................\n",
      "[CV] . clf__max_features=1, clf__max_depth=50, score=0.782123 -   0.2s\n",
      "[CV] clf__max_features=1, clf__max_depth=50 ..........................\n",
      "[CV] . clf__max_features=1, clf__max_depth=50, score=0.797753 -   0.2s\n",
      "[CV] clf__max_features=1, clf__max_depth=50 ..........................\n",
      "[CV] . clf__max_features=1, clf__max_depth=50, score=0.825843 -   0.2s\n",
      "[CV] clf__max_features=1, clf__max_depth=50 ..........................\n",
      "[CV] . clf__max_features=1, clf__max_depth=50, score=0.841808 -   0.2s\n",
      "[CV] clf__max_features=0.8, clf__max_depth=50 ........................\n",
      "[CV]  clf__max_features=0.8, clf__max_depth=50, score=0.614525 -   0.2s\n",
      "[CV] clf__max_features=0.8, clf__max_depth=50 ........................\n",
      "[CV]  clf__max_features=0.8, clf__max_depth=50, score=0.832402 -   0.2s\n",
      "[CV] clf__max_features=0.8, clf__max_depth=50 ........................\n",
      "[CV]  clf__max_features=0.8, clf__max_depth=50, score=0.842697 -   0.2s\n",
      "[CV] clf__max_features=0.8, clf__max_depth=50 ........................\n",
      "[CV]  clf__max_features=0.8, clf__max_depth=50, score=0.837079 -   0.2s\n",
      "[CV] clf__max_features=0.8, clf__max_depth=50 ........................\n",
      "[CV]  clf__max_features=0.8, clf__max_depth=50, score=0.841808 -   0.2s\n",
      "[CV] clf__max_features=0.5, clf__max_depth=None ......................\n",
      "[CV]  clf__max_features=0.5, clf__max_depth=None, score=0.675978 -   0.2s\n",
      "[CV] clf__max_features=0.5, clf__max_depth=None ......................\n",
      "[CV]  clf__max_features=0.5, clf__max_depth=None, score=0.804469 -   0.2s\n",
      "[CV] clf__max_features=0.5, clf__max_depth=None ......................\n",
      "[CV]  clf__max_features=0.5, clf__max_depth=None, score=0.853933 -   0.2s\n",
      "[CV] clf__max_features=0.5, clf__max_depth=None ......................\n",
      "[CV]  clf__max_features=0.5, clf__max_depth=None, score=0.820225 -   0.2s\n",
      "[CV] clf__max_features=0.5, clf__max_depth=None ......................\n",
      "[CV]  clf__max_features=0.5, clf__max_depth=None, score=0.841808 -   0.2s\n",
      "[CV] clf__max_features=1, clf__max_depth=None ........................\n",
      "[CV]  clf__max_features=1, clf__max_depth=None, score=0.703911 -   0.2s\n",
      "[CV] clf__max_features=1, clf__max_depth=None ........................\n",
      "[CV]  clf__max_features=1, clf__max_depth=None, score=0.782123 -   0.2s\n",
      "[CV] clf__max_features=1, clf__max_depth=None ........................\n",
      "[CV]  clf__max_features=1, clf__max_depth=None, score=0.837079 -   0.2s\n",
      "[CV] clf__max_features=1, clf__max_depth=None ........................\n",
      "[CV]  clf__max_features=1, clf__max_depth=None, score=0.825843 -   0.2s\n",
      "[CV] clf__max_features=1, clf__max_depth=None ........................\n",
      "[CV]  clf__max_features=1, clf__max_depth=None, score=0.836158 -   0.2s\n",
      "[CV] clf__max_features=0.8, clf__max_depth=None ......................\n",
      "[CV]  clf__max_features=0.8, clf__max_depth=None, score=0.631285 -   0.2s\n",
      "[CV] clf__max_features=0.8, clf__max_depth=None ......................\n",
      "[CV]  clf__max_features=0.8, clf__max_depth=None, score=0.821229 -   0.3s\n",
      "[CV] clf__max_features=0.8, clf__max_depth=None ......................\n",
      "[CV]  clf__max_features=0.8, clf__max_depth=None, score=0.848315 -   0.2s\n",
      "[CV] clf__max_features=0.8, clf__max_depth=None ......................\n",
      "[CV]  clf__max_features=0.8, clf__max_depth=None, score=0.825843 -   0.2s\n",
      "[CV] clf__max_features=0.8, clf__max_depth=None ......................\n",
      "[CV]  clf__max_features=0.8, clf__max_depth=None, score=0.847458 -   0.3s\n"
     ]
    },
    {
     "name": "stderr",
     "output_type": "stream",
     "text": [
      "[Parallel(n_jobs=1)]: Done  45 out of  45 | elapsed:   14.0s finished\n"
     ]
    },
    {
     "data": {
      "text/plain": [
       "{'clf__max_depth': 10, 'clf__max_features': 0.5}"
      ]
     },
     "execution_count": 59,
     "metadata": {},
     "output_type": "execute_result"
    }
   ],
   "source": [
    "grid_search = GridSearchCV(pipeline, parameter_grid, cv=5, verbose=3)\n",
    "grid_search.fit(train_data[0::,1::], train_data[0::,0])\n",
    "sorted(grid_search.grid_scores_, key=lambda x: x.mean_validation_score)\n",
    "grid_search.best_score_\n",
    "grid_search.best_params_"
   ]
  }
 ],
 "metadata": {
  "kernelspec": {
   "display_name": "Python 2",
   "language": "python",
   "name": "python2"
  },
  "language_info": {
   "codemirror_mode": {
    "name": "ipython",
    "version": 2
   },
   "file_extension": ".py",
   "mimetype": "text/x-python",
   "name": "python",
   "nbconvert_exporter": "python",
   "pygments_lexer": "ipython2",
   "version": "2.7.14"
  }
 },
 "nbformat": 4,
 "nbformat_minor": 2
}
