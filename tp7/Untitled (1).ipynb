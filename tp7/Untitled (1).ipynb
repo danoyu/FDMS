{
 "cells": [
  {
   "cell_type": "code",
   "execution_count": 19,
   "metadata": {},
   "outputs": [
    {
     "data": {
      "text/plain": [
       "list"
      ]
     },
     "execution_count": 19,
     "metadata": {},
     "output_type": "execute_result"
    }
   ],
   "source": [
    "import pandas as pd\n",
    "import numpy as np \n",
    "\n",
    "c_data = ['user_id', 'film_id', 'rating', 'timestamp']\n",
    "donnees = pd.read_table('recodata/u.data', names = c_data)\n",
    "\n",
    "train= pd.read_table('recodata/u1.train',header=None)\n",
    "test = pd.read_table('recodata/u1.test', header=None)\n",
    "\n",
    "donnees = donnees.drop(['timestamp'], axis=1)\n",
    "type(u['1'])"
   ]
  },
  {
   "cell_type": "code",
   "execution_count": 20,
   "metadata": {},
   "outputs": [
    {
     "name": "stdout",
     "output_type": "stream",
     "text": [
      "<class 'pandas.core.frame.DataFrame'>\n"
     ]
    },
    {
     "data": {
      "text/plain": [
       "['520', '510', '876', '107', '800', '702', '691', '252']"
      ]
     },
     "execution_count": 20,
     "metadata": {},
     "output_type": "execute_result"
    }
   ],
   "source": [
    "#print((donnees['user_id'].unique()))\n",
    "\n",
    "print(type(donnees))\n",
    "\n",
    "# matrice user,film => rate\n",
    "def matrix_user_film_rating(matrice):\n",
    "    res = {}\n",
    "    for user_id,film_id,rate in donnees.values:\n",
    "        res[user_id,film_id] =  rate  \n",
    "    return res\n",
    "      \n",
    "user_film_rate = matrix_user_film_rating(donnees)\n",
    "\n",
    "\n",
    "# renvoie un dictionnaire user -> liens avec les autres\n",
    "def links():\n",
    "    links = {}\n",
    "    with open('recodata/u.links', 'r') as f:\n",
    "        for line in f:\n",
    "            #pour enlever le \\n a la fin de la ligne\n",
    "            u = line.split('\\n')[0]\n",
    "            #user\n",
    "            u = u.split(\"\\t\")\n",
    "            #ses liens\n",
    "            u_link = u[1:]\n",
    "            links[u[0]] = u[1:]\n",
    "    return links\n",
    "\n",
    "u = links()\n",
    "#u[\"1\"]"
   ]
  },
  {
   "cell_type": "code",
   "execution_count": 4,
   "metadata": {},
   "outputs": [
    {
     "ename": "IndentationError",
     "evalue": "expected an indented block (<ipython-input-4-e5fef955bd48>, line 14)",
     "output_type": "error",
     "traceback": [
      "\u001b[1;36m  File \u001b[1;32m\"<ipython-input-4-e5fef955bd48>\"\u001b[1;36m, line \u001b[1;32m14\u001b[0m\n\u001b[1;33m    \u001b[0m\n\u001b[1;37m    ^\u001b[0m\n\u001b[1;31mIndentationError\u001b[0m\u001b[1;31m:\u001b[0m expected an indented block\n"
     ]
    }
   ],
   "source": [
    "class Sorec(object):\n",
    "    \n",
    "    # u, v et f tirer aleatoirement n'importe comment\n",
    "    #Il faut que u * v ai la taille len(users) * len(films) comme matrix_user_film_rating\n",
    "    def __init__():\n",
    "        self.u = np.random()\n",
    "        self.v = np.random()\n",
    "        self.f = np.random()\n",
    "        \n",
    "        \n",
    "    #faire une descente de gradient pour minimiser la fonction (voir photos sur tel)\n",
    "    def train(self,x,y):\n",
    "        \n",
    "        "
   ]
  }
 ],
 "metadata": {
  "kernelspec": {
   "display_name": "Python 2",
   "language": "python",
   "name": "python2"
  }
 },
 "nbformat": 4,
 "nbformat_minor": 2
}
